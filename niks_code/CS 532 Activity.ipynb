{
 "cells": [
  {
   "cell_type": "markdown",
   "metadata": {},
   "source": [
    "<center><h1>CS 532 Final Project</h1></center>\n",
    "<center><h1>Using Machine Learning to Solve Mass Spectrometry Problems</h1></center>\n",
    "<br>\n",
    "<center><h3>Nik Burmeister | Yusi Cui | John Mccloskey</h3></center>"
   ]
  },
  {
   "cell_type": "markdown",
   "metadata": {},
   "source": [
    "# Activity Background\n",
    "\n",
    "We are now going to apply PCA and clustering to the problem defined in our lecture slides. We will then formulate a least squares classifier to train our weights. We will then optimize using cross validation.\n",
    "\n",
    "Let's get to it!"
   ]
  },
  {
   "cell_type": "markdown",
   "metadata": {},
   "source": [
    "# Step 1: \n",
    "# Let's start with importing some popular python data analysis packages\n",
    "\n",
    "Please execute the cell below. You can execute cells by clicking the cell so that your cursor is in the cell and holding shift and pressing enter.This will import, among other things, numpy and pandas-two widely used data analysis packages.  "
   ]
  },
  {
   "cell_type": "code",
   "execution_count": 18,
   "metadata": {},
   "outputs": [],
   "source": [
    "import pandas as pd\n",
    "import numpy as np\n",
    "from IPython.display import Image"
   ]
  },
  {
   "cell_type": "markdown",
   "metadata": {},
   "source": [
    "# Step 2: \n",
    "# Read In Mass Spectrometry Data\n",
    "\n",
    "Presented below is a function that reads in mass spectrometry data. For convenience we have converted the data into CSV files. \n",
    "\n",
    "Please execute the function below to read in two data sets: one containing data for a control mouse and one for an injured mouse."
   ]
  },
  {
   "cell_type": "code",
   "execution_count": 19,
   "metadata": {},
   "outputs": [],
   "source": [
    "def read_spectrometry_data(control_file_name, injured_file_name):\n",
    "    \"\"\"\n",
    "    HELPER METHOD FOR READING DATA FROM CSV\n",
    "    :return:\n",
    "    \"\"\"\n",
    "    df_intensities = pd.read_csv('rawData/{control_file_name}.csv'.format(control_file_name=control_file_name),\n",
    "                                 index_col=0)\n",
    "    df_mass = pd.read_csv('rawData/{injured_file_name}.csv'.format(injured_file_name=injured_file_name), \n",
    "                          index_col=0)\n",
    "    return df_mass, df_intensities"
   ]
  },
  {
   "cell_type": "markdown",
   "metadata": {},
   "source": [
    "### Notice that we are only loading control data. As mentioned before, there are mass and intensity data files for both control and injured data.\n",
    "\n",
    "### Note: These files are quite large (>100mb) so loading the data may take a few seconds."
   ]
  },
  {
   "cell_type": "code",
   "execution_count": 20,
   "metadata": {},
   "outputs": [
    {
     "ename": "FileNotFoundError",
     "evalue": "File b'rawData/Intensity_Control_Day03_01.csv' does not exist",
     "output_type": "error",
     "traceback": [
      "\u001b[1;31m---------------------------------------------------------------------------\u001b[0m",
      "\u001b[1;31mFileNotFoundError\u001b[0m                         Traceback (most recent call last)",
      "\u001b[1;32m<ipython-input-20-ebe3f97ff1f2>\u001b[0m in \u001b[0;36m<module>\u001b[1;34m()\u001b[0m\n\u001b[0;32m      1\u001b[0m \u001b[0mCONTROL_FILE_NAME\u001b[0m \u001b[1;33m=\u001b[0m \u001b[1;34m\"Intensity_Control_Day03_01\"\u001b[0m\u001b[1;33m\u001b[0m\u001b[0m\n\u001b[0;32m      2\u001b[0m \u001b[0mINJURED_FILE_NAME\u001b[0m \u001b[1;33m=\u001b[0m \u001b[1;34m\"Mass_Control_Day03_01\"\u001b[0m\u001b[1;33m\u001b[0m\u001b[0m\n\u001b[1;32m----> 3\u001b[1;33m \u001b[0mdf_mass\u001b[0m\u001b[1;33m,\u001b[0m \u001b[0mdf_intensities\u001b[0m \u001b[1;33m=\u001b[0m \u001b[0mread_spectrometry_data\u001b[0m\u001b[1;33m(\u001b[0m\u001b[0mCONTROL_FILE_NAME\u001b[0m\u001b[1;33m,\u001b[0m \u001b[0mINJURED_FILE_NAME\u001b[0m\u001b[1;33m)\u001b[0m\u001b[1;33m\u001b[0m\u001b[0m\n\u001b[0m",
      "\u001b[1;32m<ipython-input-19-9ae896a4d33c>\u001b[0m in \u001b[0;36mread_spectrometry_data\u001b[1;34m(control_file_name, injured_file_name)\u001b[0m\n\u001b[0;32m      5\u001b[0m     \"\"\"\n\u001b[0;32m      6\u001b[0m     df_intensities = pd.read_csv('rawData/{control_file_name}.csv'.format(control_file_name=control_file_name),\n\u001b[1;32m----> 7\u001b[1;33m                                  index_col=0)\n\u001b[0m\u001b[0;32m      8\u001b[0m     df_mass = pd.read_csv('rawData/{injured_file_name}.csv'.format(injured_file_name=injured_file_name), \n\u001b[0;32m      9\u001b[0m                           index_col=0)\n",
      "\u001b[1;32mC:\\Program Files\\Anaconda3\\lib\\site-packages\\pandas\\io\\parsers.py\u001b[0m in \u001b[0;36mparser_f\u001b[1;34m(filepath_or_buffer, sep, delimiter, header, names, index_col, usecols, squeeze, prefix, mangle_dupe_cols, dtype, engine, converters, true_values, false_values, skipinitialspace, skiprows, nrows, na_values, keep_default_na, na_filter, verbose, skip_blank_lines, parse_dates, infer_datetime_format, keep_date_col, date_parser, dayfirst, iterator, chunksize, compression, thousands, decimal, lineterminator, quotechar, quoting, escapechar, comment, encoding, dialect, tupleize_cols, error_bad_lines, warn_bad_lines, skipfooter, doublequote, delim_whitespace, low_memory, memory_map, float_precision)\u001b[0m\n\u001b[0;32m    676\u001b[0m                     skip_blank_lines=skip_blank_lines)\n\u001b[0;32m    677\u001b[0m \u001b[1;33m\u001b[0m\u001b[0m\n\u001b[1;32m--> 678\u001b[1;33m         \u001b[1;32mreturn\u001b[0m \u001b[0m_read\u001b[0m\u001b[1;33m(\u001b[0m\u001b[0mfilepath_or_buffer\u001b[0m\u001b[1;33m,\u001b[0m \u001b[0mkwds\u001b[0m\u001b[1;33m)\u001b[0m\u001b[1;33m\u001b[0m\u001b[0m\n\u001b[0m\u001b[0;32m    679\u001b[0m \u001b[1;33m\u001b[0m\u001b[0m\n\u001b[0;32m    680\u001b[0m     \u001b[0mparser_f\u001b[0m\u001b[1;33m.\u001b[0m\u001b[0m__name__\u001b[0m \u001b[1;33m=\u001b[0m \u001b[0mname\u001b[0m\u001b[1;33m\u001b[0m\u001b[0m\n",
      "\u001b[1;32mC:\\Program Files\\Anaconda3\\lib\\site-packages\\pandas\\io\\parsers.py\u001b[0m in \u001b[0;36m_read\u001b[1;34m(filepath_or_buffer, kwds)\u001b[0m\n\u001b[0;32m    438\u001b[0m \u001b[1;33m\u001b[0m\u001b[0m\n\u001b[0;32m    439\u001b[0m     \u001b[1;31m# Create the parser.\u001b[0m\u001b[1;33m\u001b[0m\u001b[1;33m\u001b[0m\u001b[0m\n\u001b[1;32m--> 440\u001b[1;33m     \u001b[0mparser\u001b[0m \u001b[1;33m=\u001b[0m \u001b[0mTextFileReader\u001b[0m\u001b[1;33m(\u001b[0m\u001b[0mfilepath_or_buffer\u001b[0m\u001b[1;33m,\u001b[0m \u001b[1;33m**\u001b[0m\u001b[0mkwds\u001b[0m\u001b[1;33m)\u001b[0m\u001b[1;33m\u001b[0m\u001b[0m\n\u001b[0m\u001b[0;32m    441\u001b[0m \u001b[1;33m\u001b[0m\u001b[0m\n\u001b[0;32m    442\u001b[0m     \u001b[1;32mif\u001b[0m \u001b[0mchunksize\u001b[0m \u001b[1;32mor\u001b[0m \u001b[0miterator\u001b[0m\u001b[1;33m:\u001b[0m\u001b[1;33m\u001b[0m\u001b[0m\n",
      "\u001b[1;32mC:\\Program Files\\Anaconda3\\lib\\site-packages\\pandas\\io\\parsers.py\u001b[0m in \u001b[0;36m__init__\u001b[1;34m(self, f, engine, **kwds)\u001b[0m\n\u001b[0;32m    785\u001b[0m             \u001b[0mself\u001b[0m\u001b[1;33m.\u001b[0m\u001b[0moptions\u001b[0m\u001b[1;33m[\u001b[0m\u001b[1;34m'has_index_names'\u001b[0m\u001b[1;33m]\u001b[0m \u001b[1;33m=\u001b[0m \u001b[0mkwds\u001b[0m\u001b[1;33m[\u001b[0m\u001b[1;34m'has_index_names'\u001b[0m\u001b[1;33m]\u001b[0m\u001b[1;33m\u001b[0m\u001b[0m\n\u001b[0;32m    786\u001b[0m \u001b[1;33m\u001b[0m\u001b[0m\n\u001b[1;32m--> 787\u001b[1;33m         \u001b[0mself\u001b[0m\u001b[1;33m.\u001b[0m\u001b[0m_make_engine\u001b[0m\u001b[1;33m(\u001b[0m\u001b[0mself\u001b[0m\u001b[1;33m.\u001b[0m\u001b[0mengine\u001b[0m\u001b[1;33m)\u001b[0m\u001b[1;33m\u001b[0m\u001b[0m\n\u001b[0m\u001b[0;32m    788\u001b[0m \u001b[1;33m\u001b[0m\u001b[0m\n\u001b[0;32m    789\u001b[0m     \u001b[1;32mdef\u001b[0m \u001b[0mclose\u001b[0m\u001b[1;33m(\u001b[0m\u001b[0mself\u001b[0m\u001b[1;33m)\u001b[0m\u001b[1;33m:\u001b[0m\u001b[1;33m\u001b[0m\u001b[0m\n",
      "\u001b[1;32mC:\\Program Files\\Anaconda3\\lib\\site-packages\\pandas\\io\\parsers.py\u001b[0m in \u001b[0;36m_make_engine\u001b[1;34m(self, engine)\u001b[0m\n\u001b[0;32m   1012\u001b[0m     \u001b[1;32mdef\u001b[0m \u001b[0m_make_engine\u001b[0m\u001b[1;33m(\u001b[0m\u001b[0mself\u001b[0m\u001b[1;33m,\u001b[0m \u001b[0mengine\u001b[0m\u001b[1;33m=\u001b[0m\u001b[1;34m'c'\u001b[0m\u001b[1;33m)\u001b[0m\u001b[1;33m:\u001b[0m\u001b[1;33m\u001b[0m\u001b[0m\n\u001b[0;32m   1013\u001b[0m         \u001b[1;32mif\u001b[0m \u001b[0mengine\u001b[0m \u001b[1;33m==\u001b[0m \u001b[1;34m'c'\u001b[0m\u001b[1;33m:\u001b[0m\u001b[1;33m\u001b[0m\u001b[0m\n\u001b[1;32m-> 1014\u001b[1;33m             \u001b[0mself\u001b[0m\u001b[1;33m.\u001b[0m\u001b[0m_engine\u001b[0m \u001b[1;33m=\u001b[0m \u001b[0mCParserWrapper\u001b[0m\u001b[1;33m(\u001b[0m\u001b[0mself\u001b[0m\u001b[1;33m.\u001b[0m\u001b[0mf\u001b[0m\u001b[1;33m,\u001b[0m \u001b[1;33m**\u001b[0m\u001b[0mself\u001b[0m\u001b[1;33m.\u001b[0m\u001b[0moptions\u001b[0m\u001b[1;33m)\u001b[0m\u001b[1;33m\u001b[0m\u001b[0m\n\u001b[0m\u001b[0;32m   1015\u001b[0m         \u001b[1;32melse\u001b[0m\u001b[1;33m:\u001b[0m\u001b[1;33m\u001b[0m\u001b[0m\n\u001b[0;32m   1016\u001b[0m             \u001b[1;32mif\u001b[0m \u001b[0mengine\u001b[0m \u001b[1;33m==\u001b[0m \u001b[1;34m'python'\u001b[0m\u001b[1;33m:\u001b[0m\u001b[1;33m\u001b[0m\u001b[0m\n",
      "\u001b[1;32mC:\\Program Files\\Anaconda3\\lib\\site-packages\\pandas\\io\\parsers.py\u001b[0m in \u001b[0;36m__init__\u001b[1;34m(self, src, **kwds)\u001b[0m\n\u001b[0;32m   1706\u001b[0m         \u001b[0mkwds\u001b[0m\u001b[1;33m[\u001b[0m\u001b[1;34m'usecols'\u001b[0m\u001b[1;33m]\u001b[0m \u001b[1;33m=\u001b[0m \u001b[0mself\u001b[0m\u001b[1;33m.\u001b[0m\u001b[0musecols\u001b[0m\u001b[1;33m\u001b[0m\u001b[0m\n\u001b[0;32m   1707\u001b[0m \u001b[1;33m\u001b[0m\u001b[0m\n\u001b[1;32m-> 1708\u001b[1;33m         \u001b[0mself\u001b[0m\u001b[1;33m.\u001b[0m\u001b[0m_reader\u001b[0m \u001b[1;33m=\u001b[0m \u001b[0mparsers\u001b[0m\u001b[1;33m.\u001b[0m\u001b[0mTextReader\u001b[0m\u001b[1;33m(\u001b[0m\u001b[0msrc\u001b[0m\u001b[1;33m,\u001b[0m \u001b[1;33m**\u001b[0m\u001b[0mkwds\u001b[0m\u001b[1;33m)\u001b[0m\u001b[1;33m\u001b[0m\u001b[0m\n\u001b[0m\u001b[0;32m   1709\u001b[0m \u001b[1;33m\u001b[0m\u001b[0m\n\u001b[0;32m   1710\u001b[0m         \u001b[0mpassed_names\u001b[0m \u001b[1;33m=\u001b[0m \u001b[0mself\u001b[0m\u001b[1;33m.\u001b[0m\u001b[0mnames\u001b[0m \u001b[1;32mis\u001b[0m \u001b[1;32mNone\u001b[0m\u001b[1;33m\u001b[0m\u001b[0m\n",
      "\u001b[1;32mpandas\\_libs\\parsers.pyx\u001b[0m in \u001b[0;36mpandas._libs.parsers.TextReader.__cinit__\u001b[1;34m()\u001b[0m\n",
      "\u001b[1;32mpandas\\_libs\\parsers.pyx\u001b[0m in \u001b[0;36mpandas._libs.parsers.TextReader._setup_parser_source\u001b[1;34m()\u001b[0m\n",
      "\u001b[1;31mFileNotFoundError\u001b[0m: File b'rawData/Intensity_Control_Day03_01.csv' does not exist"
     ]
    }
   ],
   "source": [
    "CONTROL_FILE_NAME = \"Intensity_Control_Day03_01\"\n",
    "INJURED_FILE_NAME = \"Mass_Control_Day03_01\"\n",
    "df_mass, df_intensities = read_spectrometry_data(CONTROL_FILE_NAME, INJURED_FILE_NAME)"
   ]
  },
  {
   "cell_type": "markdown",
   "metadata": {},
   "source": [
    "#### Let's inspect the dimensions of the mass dataframe (df_mass). Execute the following code below: df_mass.head()"
   ]
  },
  {
   "cell_type": "code",
   "execution_count": 21,
   "metadata": {},
   "outputs": [
    {
     "ename": "NameError",
     "evalue": "name 'df_mass' is not defined",
     "output_type": "error",
     "traceback": [
      "\u001b[1;31m---------------------------------------------------------------------------\u001b[0m",
      "\u001b[1;31mNameError\u001b[0m                                 Traceback (most recent call last)",
      "\u001b[1;32m<ipython-input-21-050b3d4fff93>\u001b[0m in \u001b[0;36m<module>\u001b[1;34m()\u001b[0m\n\u001b[1;32m----> 1\u001b[1;33m \u001b[0mdf_mass\u001b[0m\u001b[1;33m.\u001b[0m\u001b[0mhead\u001b[0m\u001b[1;33m(\u001b[0m\u001b[1;33m)\u001b[0m\u001b[1;33m\u001b[0m\u001b[0m\n\u001b[0m",
      "\u001b[1;31mNameError\u001b[0m: name 'df_mass' is not defined"
     ]
    }
   ],
   "source": [
    "df_mass.head()"
   ]
  },
  {
   "cell_type": "markdown",
   "metadata": {},
   "source": [
    "### Data Background: \n",
    "The matrix you just loaded is 10,000 x 892. Each column is a feature vector. So we have almost 900 data samples, and 10,000 features for each sample.\n",
    "\n",
    "Furthermore, each sample represents a 'pixel' in the image. An image has around 900 pixels, but sometimes the size varies. "
   ]
  },
  {
   "cell_type": "markdown",
   "metadata": {},
   "source": [
    "### Let's see what a feature vector (a column) looks like:"
   ]
  },
  {
   "cell_type": "code",
   "execution_count": 22,
   "metadata": {},
   "outputs": [
    {
     "ename": "NameError",
     "evalue": "name 'df_mass' is not defined",
     "output_type": "error",
     "traceback": [
      "\u001b[1;31m---------------------------------------------------------------------------\u001b[0m",
      "\u001b[1;31mNameError\u001b[0m                                 Traceback (most recent call last)",
      "\u001b[1;32m<ipython-input-22-f850caabcbab>\u001b[0m in \u001b[0;36m<module>\u001b[1;34m()\u001b[0m\n\u001b[0;32m      1\u001b[0m \u001b[1;32mimport\u001b[0m \u001b[0mmatplotlib\u001b[0m\u001b[1;33m.\u001b[0m\u001b[0mpyplot\u001b[0m \u001b[1;32mas\u001b[0m \u001b[0mplt\u001b[0m\u001b[1;33m\u001b[0m\u001b[0m\n\u001b[0;32m      2\u001b[0m \u001b[1;32mfrom\u001b[0m \u001b[0mmatplotlib\u001b[0m\u001b[1;33m.\u001b[0m\u001b[0mpyplot\u001b[0m \u001b[1;32mimport\u001b[0m \u001b[0mplot\u001b[0m\u001b[1;33m,\u001b[0m \u001b[0mscatter\u001b[0m\u001b[1;33m\u001b[0m\u001b[0m\n\u001b[1;32m----> 3\u001b[1;33m \u001b[0mx\u001b[0m \u001b[1;33m=\u001b[0m \u001b[0mdf_mass\u001b[0m\u001b[1;33m.\u001b[0m\u001b[0miloc\u001b[0m\u001b[1;33m[\u001b[0m\u001b[1;33m:\u001b[0m\u001b[1;33m,\u001b[0m \u001b[1;36m0\u001b[0m\u001b[1;33m]\u001b[0m\u001b[1;33m\u001b[0m\u001b[0m\n\u001b[0m\u001b[0;32m      4\u001b[0m \u001b[0my\u001b[0m \u001b[1;33m=\u001b[0m \u001b[0mdf_intensities\u001b[0m\u001b[1;33m.\u001b[0m\u001b[0miloc\u001b[0m\u001b[1;33m[\u001b[0m\u001b[1;33m:\u001b[0m\u001b[1;33m,\u001b[0m \u001b[1;36m0\u001b[0m\u001b[1;33m]\u001b[0m\u001b[1;33m\u001b[0m\u001b[0m\n\u001b[0;32m      5\u001b[0m \u001b[0mplt\u001b[0m\u001b[1;33m.\u001b[0m\u001b[0mfigure\u001b[0m\u001b[1;33m(\u001b[0m\u001b[1;36m1\u001b[0m\u001b[1;33m)\u001b[0m\u001b[1;33m\u001b[0m\u001b[0m\n",
      "\u001b[1;31mNameError\u001b[0m: name 'df_mass' is not defined"
     ]
    }
   ],
   "source": [
    "import matplotlib.pyplot as plt\n",
    "from matplotlib.pyplot import plot, scatter\n",
    "x = df_mass.iloc[:, 0]\n",
    "y = df_intensities.iloc[:, 0]\n",
    "plt.figure(1)\n",
    "plt.figure(figsize=(16, 8), dpi= 80, facecolor='w', edgecolor='k')\n",
    "colors = np.random.rand(3)\n",
    "scatter(x.values, y.values,  c=colors)\n",
    "plt.xlabel('MZS')\n",
    "plt.ylabel('Intensity')"
   ]
  },
  {
   "cell_type": "markdown",
   "metadata": {},
   "source": [
    "## Recap:\n",
    "\n",
    "Our control data consists of intensities (y axis) and mass-to-charge ratios (x axis). This data is is located in two dataframes: df_mass and df_intensities. Each column in these dataframes represent a sample. Each sample represents a pixel in the image. An image has a dimension around 30x30 pixels. We have illustrated this in the diagram below:"
   ]
  },
  {
   "cell_type": "markdown",
   "metadata": {},
   "source": [
    "![title](img/pixel.png?1)"
   ]
  },
  {
   "cell_type": "markdown",
   "metadata": {},
   "source": [
    "# Step 3:\n",
    "# Let's Clean Some Data\n",
    "\n",
    "As you have seen, our data set is quite large. Furthermore, for a given pixel, there is a lot of data we do not need. We are interested in the \"peak\" intensities for a given pixel. This will tell us the most abundant molecules for a given tissue region. In order to reduce our data set, we will use the signal function from scipy to find the indexes where the peaks occur. We will then filter the data by these peaks.\n",
    "\n",
    "Execute the following cell to find the peaks and graph the resulting data:"
   ]
  },
  {
   "cell_type": "code",
   "execution_count": 23,
   "metadata": {},
   "outputs": [
    {
     "ename": "NameError",
     "evalue": "name 'df_mass' is not defined",
     "output_type": "error",
     "traceback": [
      "\u001b[1;31m---------------------------------------------------------------------------\u001b[0m",
      "\u001b[1;31mNameError\u001b[0m                                 Traceback (most recent call last)",
      "\u001b[1;32m<ipython-input-23-89ed1e0dd678>\u001b[0m in \u001b[0;36m<module>\u001b[1;34m()\u001b[0m\n\u001b[0;32m      7\u001b[0m     \u001b[1;32mreturn\u001b[0m \u001b[0mpixel\u001b[0m\u001b[1;33m\u001b[0m\u001b[0m\n\u001b[0;32m      8\u001b[0m \u001b[1;33m\u001b[0m\u001b[0m\n\u001b[1;32m----> 9\u001b[1;33m \u001b[0mpixel_peaks\u001b[0m \u001b[1;33m=\u001b[0m \u001b[0mfind_pixel_peaks\u001b[0m\u001b[1;33m(\u001b[0m\u001b[0mdf_mass\u001b[0m\u001b[1;33m.\u001b[0m\u001b[0miloc\u001b[0m\u001b[1;33m[\u001b[0m\u001b[1;33m:\u001b[0m\u001b[1;33m,\u001b[0m \u001b[1;36m0\u001b[0m\u001b[1;33m]\u001b[0m\u001b[1;33m,\u001b[0m \u001b[0mdf_intensities\u001b[0m\u001b[1;33m.\u001b[0m\u001b[0miloc\u001b[0m\u001b[1;33m[\u001b[0m\u001b[1;33m:\u001b[0m\u001b[1;33m,\u001b[0m \u001b[1;36m0\u001b[0m\u001b[1;33m]\u001b[0m\u001b[1;33m)\u001b[0m\u001b[1;33m\u001b[0m\u001b[0m\n\u001b[0m\u001b[0;32m     10\u001b[0m \u001b[0mplt\u001b[0m\u001b[1;33m.\u001b[0m\u001b[0mfigure\u001b[0m\u001b[1;33m(\u001b[0m\u001b[1;36m2\u001b[0m\u001b[1;33m)\u001b[0m\u001b[1;33m\u001b[0m\u001b[0m\n\u001b[0;32m     11\u001b[0m \u001b[0mplt\u001b[0m\u001b[1;33m.\u001b[0m\u001b[0mfigure\u001b[0m\u001b[1;33m(\u001b[0m\u001b[0mfigsize\u001b[0m\u001b[1;33m=\u001b[0m\u001b[1;33m(\u001b[0m\u001b[1;36m16\u001b[0m\u001b[1;33m,\u001b[0m \u001b[1;36m8\u001b[0m\u001b[1;33m)\u001b[0m\u001b[1;33m,\u001b[0m \u001b[0mdpi\u001b[0m\u001b[1;33m=\u001b[0m \u001b[1;36m80\u001b[0m\u001b[1;33m,\u001b[0m \u001b[0mfacecolor\u001b[0m\u001b[1;33m=\u001b[0m\u001b[1;34m'w'\u001b[0m\u001b[1;33m,\u001b[0m \u001b[0medgecolor\u001b[0m\u001b[1;33m=\u001b[0m\u001b[1;34m'k'\u001b[0m\u001b[1;33m)\u001b[0m\u001b[1;33m\u001b[0m\u001b[0m\n",
      "\u001b[1;31mNameError\u001b[0m: name 'df_mass' is not defined"
     ]
    }
   ],
   "source": [
    "import scipy.signal as signal\n",
    "\n",
    "def find_pixel_peaks(x, y):\n",
    "    pixel = pd.DataFrame({'mzs': x.values, 'intensities': y.values})\n",
    "    peaks = signal.find_peaks(y, height=50000)\n",
    "    pixel = pixel[pixel.index.isin(peaks[0])]\n",
    "    return pixel\n",
    "\n",
    "pixel_peaks = find_pixel_peaks(df_mass.iloc[:, 0], df_intensities.iloc[:, 0])\n",
    "plt.figure(2)\n",
    "plt.figure(figsize=(16, 8), dpi= 80, facecolor='w', edgecolor='k')\n",
    "scatter(pixel['mzs'], pixel['intensities'],  c=[0.00903845, 0.27883565, 0.57728387, 0.68528783])\n",
    "plt.xlabel('MZS')\n",
    "plt.ylabel('Intensity')"
   ]
  },
  {
   "cell_type": "markdown",
   "metadata": {},
   "source": [
    "As you can see, the signal function finds the peak intensities. We set a hard threshold of 50,000, meaning the function not consider anything below a peak. Note: for this purposes of this exercise this threshold was set by observation. This will eventually allow us to use sparse regularization to find the important features."
   ]
  },
  {
   "cell_type": "markdown",
   "metadata": {},
   "source": [
    "### Data Alignment issues\n",
    "\n",
    "Our goal will eventually be to compare the control data to the injured data. Another data issue is that our MZS axes may not align when combining the control and sample data to do a regression. In order to fix this, we will bin the data. For each bin, we will add all intensities that fall in the bin's range. Other combination mathods, such as taking the mean, median, and max, could also be used. For the purposes of this exercise, we will only consider adding the intensities.\n",
    "\n",
    "Execute the code below. The following code will iterate over each pixel in the image and find the peaks. After finding the peaks of each pixel, we will make a linspace of 250 bins. We then iterate over the bins, find all intensities in that range, and sum them together.\n",
    "\n",
    "#### Note: the following code may take up to 4 min to run"
   ]
  },
  {
   "cell_type": "code",
   "execution_count": 24,
   "metadata": {},
   "outputs": [
    {
     "ename": "NameError",
     "evalue": "name 'df_mass' is not defined",
     "output_type": "error",
     "traceback": [
      "\u001b[1;31m---------------------------------------------------------------------------\u001b[0m",
      "\u001b[1;31mNameError\u001b[0m                                 Traceback (most recent call last)",
      "\u001b[1;32m<ipython-input-24-80604f2ebff0>\u001b[0m in \u001b[0;36m<module>\u001b[1;34m()\u001b[0m\n\u001b[0;32m      2\u001b[0m \u001b[1;33m\u001b[0m\u001b[0m\n\u001b[0;32m      3\u001b[0m \u001b[1;31m# FIND THE NUMBER OF SAMPLES\u001b[0m\u001b[1;33m\u001b[0m\u001b[1;33m\u001b[0m\u001b[0m\n\u001b[1;32m----> 4\u001b[1;33m \u001b[0mpixel_count\u001b[0m \u001b[1;33m=\u001b[0m \u001b[0mlen\u001b[0m\u001b[1;33m(\u001b[0m\u001b[0mdf_mass\u001b[0m\u001b[1;33m.\u001b[0m\u001b[0mcolumns\u001b[0m\u001b[1;33m)\u001b[0m\u001b[1;33m\u001b[0m\u001b[0m\n\u001b[0m\u001b[0;32m      5\u001b[0m \u001b[1;33m\u001b[0m\u001b[0m\n\u001b[0;32m      6\u001b[0m \u001b[1;31m# CREATE A DATAFRAME THAT WILL HOLD ALL FILTER PIXELS\u001b[0m\u001b[1;33m\u001b[0m\u001b[1;33m\u001b[0m\u001b[0m\n",
      "\u001b[1;31mNameError\u001b[0m: name 'df_mass' is not defined"
     ]
    }
   ],
   "source": [
    "from numpy import linspace\n",
    "\n",
    "# FIND THE NUMBER OF SAMPLES\n",
    "pixel_count = len(df_mass.columns)\n",
    "\n",
    "# CREATE A DATAFRAME THAT WILL HOLD ALL FILTER PIXELS\n",
    "master_df = pd.DataFrame()\n",
    "\n",
    "# FIND PEAKS FOR EACH PIXEL, ADD TO MASTER_DF\n",
    "for i in range(pixel_count):\n",
    "    pixel_x = df_mass.iloc[:, i]\n",
    "    pixel_y = df_intensities.iloc[:, i]\n",
    "    df = find_pixel_peaks(pixel_x, pixel_y)\n",
    "    df['pixel_id'] = i\n",
    "    master_df = master_df.append(df, ignore_index=True)\n",
    "\n",
    "# NUMBER OF BINS FOR THE MZS AXIS\n",
    "number_of_bins = 250\n",
    "# PHYSICAL MIN AND MAX OF AXIS\n",
    "min_mzs = 450\n",
    "max_mzs = 1000\n",
    "# MAKE THE LINSPACE\n",
    "bins = linspace(min_mzs, max_mzs, number_of_bins)\n",
    "col_set = list(range(pixel_count))\n",
    "\n",
    "# CREATE NEW DATAFRAME WHERE COLUMNS ARE THE BINS\n",
    "aggregated_df = pd.DataFrame(columns=list(bins[:-1]))\n",
    "\n",
    "for i in col_set:\n",
    "    curr_pixel = master_df[master_df['pixel_id'] == i]\n",
    "    pixel_binned = {}\n",
    "    for index in range(1, len(bins)):\n",
    "        lower_bound = bins[index - 1]\n",
    "        upper_bound = bins[index]\n",
    "        curr_bin = curr_pixel[curr_pixel['mzs'].between(lower_bound, upper_bound)]\n",
    "        bin_intensity = curr_bin['intensities'].sum()\n",
    "        pixel_binned[lower_bound] = bin_intensity\n",
    "    temp = pd.DataFrame([pixel_binned])\n",
    "    aggregated_df = aggregated_df.append(temp, ignore_index=True)"
   ]
  },
  {
   "cell_type": "markdown",
   "metadata": {},
   "source": [
    "### Run the following code. Inspect the aggregated_df data. What do you notice about the shape?"
   ]
  },
  {
   "cell_type": "code",
   "execution_count": 25,
   "metadata": {},
   "outputs": [
    {
     "ename": "NameError",
     "evalue": "name 'aggregated_df' is not defined",
     "output_type": "error",
     "traceback": [
      "\u001b[1;31m---------------------------------------------------------------------------\u001b[0m",
      "\u001b[1;31mNameError\u001b[0m                                 Traceback (most recent call last)",
      "\u001b[1;32m<ipython-input-25-2cc8f3326a64>\u001b[0m in \u001b[0;36m<module>\u001b[1;34m()\u001b[0m\n\u001b[1;32m----> 1\u001b[1;33m \u001b[0maggregated_df\u001b[0m\u001b[1;33m.\u001b[0m\u001b[0mhead\u001b[0m\u001b[1;33m(\u001b[0m\u001b[1;33m)\u001b[0m\u001b[1;33m\u001b[0m\u001b[0m\n\u001b[0m",
      "\u001b[1;31mNameError\u001b[0m: name 'aggregated_df' is not defined"
     ]
    }
   ],
   "source": [
    "aggregated_df.head()"
   ]
  },
  {
   "cell_type": "code",
   "execution_count": 26,
   "metadata": {},
   "outputs": [
    {
     "ename": "NameError",
     "evalue": "name 'aggregated_df' is not defined",
     "output_type": "error",
     "traceback": [
      "\u001b[1;31m---------------------------------------------------------------------------\u001b[0m",
      "\u001b[1;31mNameError\u001b[0m                                 Traceback (most recent call last)",
      "\u001b[1;32m<ipython-input-26-b98d0ac04fd8>\u001b[0m in \u001b[0;36m<module>\u001b[1;34m()\u001b[0m\n\u001b[1;32m----> 1\u001b[1;33m \u001b[0maggregated_df\u001b[0m\u001b[1;33m.\u001b[0m\u001b[0mvalues\u001b[0m\u001b[1;33m.\u001b[0m\u001b[0mshape\u001b[0m\u001b[1;33m\u001b[0m\u001b[0m\n\u001b[0m",
      "\u001b[1;31mNameError\u001b[0m: name 'aggregated_df' is not defined"
     ]
    }
   ],
   "source": [
    "aggregated_df.values.shape"
   ]
  },
  {
   "cell_type": "markdown",
   "metadata": {},
   "source": [
    "As seen above, we have reduced our data set from 10,000x892 to 892x250."
   ]
  },
  {
   "cell_type": "markdown",
   "metadata": {},
   "source": [
    "# Step 4\n",
    "# PCA, Clustering, and Building a Classifier"
   ]
  },
  {
   "cell_type": "markdown",
   "metadata": {},
   "source": [
    "We will now use machine learning techniques that we studied in class to find the important features in our data, group them by cluster, and then try to classify injured vs uninjured samples.\n",
    "\n",
    "Let's do it!"
   ]
  },
  {
   "cell_type": "markdown",
   "metadata": {},
   "source": [
    "### PCA\n",
    "\n",
    "As you have seen, data cleanup takes time. Also, 250 bins may be too small, and cause us to lose important information. For the purposes of this activity, we have prepared a data set with 1000 bins. \n",
    "\n",
    "#### First, import some packages:"
   ]
  },
  {
   "cell_type": "code",
   "execution_count": 27,
   "metadata": {},
   "outputs": [],
   "source": [
    "from numpy import linspace, dot, transpose\n",
    "from numpy.linalg import svd, pinv\n",
    "from sklearn.cluster import KMeans"
   ]
  },
  {
   "cell_type": "markdown",
   "metadata": {},
   "source": [
    "#### Go ahead and load in the data:"
   ]
  },
  {
   "cell_type": "code",
   "execution_count": 28,
   "metadata": {},
   "outputs": [],
   "source": [
    "#df_control_feature_set = pd.read_csv('featureData/aggregated_feature_table_control_day03_01.csv', index_col=0)\n",
    "df_control_feature_set = pd.read_csv(r\"\\\\wfs1\\users$\\mccloskey\\Downloads\\csvData-20190806T210426Z-001\\csvData\\aggregates (bin=250)\\Control_Day03_01_30x30_aggregated.csv\",index_col=0)"
   ]
  },
  {
   "cell_type": "markdown",
   "metadata": {},
   "source": [
    "#### Now center and standardize the data"
   ]
  },
  {
   "cell_type": "code",
   "execution_count": 62,
   "metadata": {},
   "outputs": [
    {
     "data": {
      "text/plain": [
       "450.0                 469531.849362\n",
       "452.20883534136544     19132.752773\n",
       "454.41767068273094    134101.538420\n",
       "456.6265060240964       7626.442804\n",
       "458.83534136546183     21423.626649\n",
       "461.04417670682733     79796.755842\n",
       "463.2530120481928      62870.843329\n",
       "465.4618473895582      44800.540530\n",
       "467.6706827309237      13228.758963\n",
       "469.87951807228916    122381.429865\n",
       "472.0883534136546          0.000000\n",
       "474.2971887550201        446.858485\n",
       "476.50602409638554     11312.549900\n",
       "478.714859437751        4145.489718\n",
       "480.9236947791165      16517.520530\n",
       "483.13253012048193      6170.355968\n",
       "485.3413654618474     107104.070534\n",
       "487.5502008032129      38649.775825\n",
       "489.7590361445783          0.000000\n",
       "491.96787148594376       821.871949\n",
       "494.1767068273092     145424.300226\n",
       "496.3855421686747      39902.501389\n",
       "498.59437751004015      6234.130443\n",
       "500.80321285140565     55543.763459\n",
       "503.0120481927711        371.383750\n",
       "505.22088353413653      3113.650161\n",
       "507.429718875502       65230.576610\n",
       "509.6385542168675      96430.715286\n",
       "511.8473895582329       4261.014566\n",
       "514.0562248995984        113.768911\n",
       "                          ...      \n",
       "935.9437751004016          0.000000\n",
       "938.1526104417671          0.000000\n",
       "940.3614457831325          0.000000\n",
       "942.570281124498           0.000000\n",
       "944.7791164658635          0.000000\n",
       "946.9879518072289          0.000000\n",
       "949.1967871485944         57.068290\n",
       "951.4056224899598        172.532114\n",
       "953.6144578313254          0.000000\n",
       "955.8232931726907          0.000000\n",
       "958.0321285140562       1345.772070\n",
       "960.2409638554217          0.000000\n",
       "962.4497991967871          0.000000\n",
       "964.6586345381526          0.000000\n",
       "966.867469879518           0.000000\n",
       "969.0763052208836          0.000000\n",
       "971.285140562249         488.673455\n",
       "973.4939759036145          0.000000\n",
       "975.7028112449799         55.711706\n",
       "977.9116465863453      51926.226840\n",
       "980.1204819277108       8799.630482\n",
       "982.3293172690763         55.951641\n",
       "984.5381526104418          0.000000\n",
       "986.7469879518072          0.000000\n",
       "988.9558232931727          0.000000\n",
       "991.1646586345381      19200.487826\n",
       "993.3734939759036       1047.625043\n",
       "995.5823293172691          0.000000\n",
       "997.7911646586346          0.000000\n",
       "1000.0                          NaN\n",
       "Length: 250, dtype: float64"
      ]
     },
     "execution_count": 62,
     "metadata": {},
     "output_type": "execute_result"
    }
   ],
   "source": [
    "df_control_feature_set_standardized = (df_control_feature_set - df_control_feature_set.mean()) / df_control_feature_set.std()\n",
    "df_control_feature_set_standardized = df_control_feature_set_standardized.fillna(0)\n",
    "df_control_feature_set_standardized.head()\n",
    "df_control_feature_set.mean()"
   ]
  },
  {
   "cell_type": "markdown",
   "metadata": {},
   "source": [
    "### SVD and KMeans\n",
    "\n",
    "We will now find the SVD of the matrix. We will then use the SVD to approximate the data in 2-dimensions.Finally, we will run K-Means on the resulting coordinates with three clusters. We will then plot the resulting K-Means labels using plt.imshow.\n",
    "\n",
    "#### plt.imshow: this plotting function takes the cluster labels for each pixel and plots them. Therefore, our image should have three colors, each corresponding to a cluster"
   ]
  },
  {
   "cell_type": "code",
   "execution_count": 79,
   "metadata": {},
   "outputs": [],
   "source": [
    "# FIND THE SVD, NOTE V IS RETURNED TRANSPOSED\n",
    "[U, S, V] = svd(df_control_feature_set_standardized.values)\n",
    "# CREATE A DIAG MATRIX\n",
    "S_DIAG = np.diag(S)\n",
    "# COMPUTE THE RANK 2 APPOIMATION TO FIND THE COORDINATES\n",
    "dim_red_data = dot(S_DIAG[:2, :2], U[:, :2].transpose()).transpose()\n"
   ]
  },
  {
   "cell_type": "code",
   "execution_count": 97,
   "metadata": {},
   "outputs": [],
   "source": [
    "from sklearn.cluster import SpectralClustering\n",
    "sc = SpectralClustering().fit(dim_red_data)\n",
    "labels = sc.labels_"
   ]
  },
  {
   "cell_type": "code",
   "execution_count": 91,
   "metadata": {},
   "outputs": [],
   "source": [
    "from sklearn.cluster import DBSCAN\n",
    "db = DBSCAN().fit(dim_red_data)\n",
    "labels = db.labels_"
   ]
  },
  {
   "cell_type": "code",
   "execution_count": 99,
   "metadata": {},
   "outputs": [
    {
     "data": {
      "text/plain": [
       "Text(0,0.5,'Singular Vector 2')"
      ]
     },
     "execution_count": 99,
     "metadata": {},
     "output_type": "execute_result"
    },
    {
     "data": {
      "text/plain": [
       "<Figure size 432x288 with 0 Axes>"
      ]
     },
     "metadata": {},
     "output_type": "display_data"
    },
    {
     "data": {
      "image/png": "[encoded data removed]",
      "text/plain": [
       "<Figure size 1280x640 with 1 Axes>"
      ]
     },
     "metadata": {},
     "output_type": "display_data"
    }
   ],
   "source": [
    "df_clusters = pd.DataFrame(dim_red_data)\n",
    "df_clusters['clusters'] = labels\n",
    "x = df_clusters[0]\n",
    "y = df_clusters[1]\n",
    "\n",
    "centers[:, 0], centers[:, 1] = centers[:, 0], centers[:, 1]\n",
    "plt.figure(2)\n",
    "plt.figure(figsize=(16, 8), dpi= 80, facecolor='w', edgecolor='k')\n",
    "plt.scatter(x, y, c=df_clusters['clusters'], s=50, cmap='viridis')\n",
    "plt.scatter(centers[:, 0], centers[:, 1], c='red', s=200, alpha=0.5)\n",
    "plt.title('K-Means Clustering after Rank-2 PCA Reduction')\n",
    "plt.xlabel('Singular Vector 1')\n",
    "plt.ylabel('Singular Vector 2')"
   ]
  },
  {
   "cell_type": "code",
   "execution_count": 94,
   "metadata": {},
   "outputs": [],
   "source": [
    "# RUN KMeans WITH 3 CLUSTERS\n",
    "kmeans = KMeans(n_clusters=3, n_init=15)\n",
    "kmeans.fit(dim_red_data)\n",
    "y_kmeans = kmeans.predict(dim_red_data)\n",
    "df_clusters = pd.DataFrame(dim_red_data)\n",
    "df_clusters['clusters'] = y_kmeans"
   ]
  },
  {
   "cell_type": "code",
   "execution_count": 95,
   "metadata": {},
   "outputs": [
    {
     "data": {
      "text/plain": [
       "Text(0,0.5,'Singular Vector 2')"
      ]
     },
     "execution_count": 95,
     "metadata": {},
     "output_type": "execute_result"
    },
    {
     "data": {
      "text/plain": [
       "<Figure size 432x288 with 0 Axes>"
      ]
     },
     "metadata": {},
     "output_type": "display_data"
    },
    {
     "data": {
      "image/png": "[encoded data removed]",
      "text/plain": [
       "<Figure size 1280x640 with 1 Axes>"
      ]
     },
     "metadata": {},
     "output_type": "display_data"
    }
   ],
   "source": [
    "x = df_clusters[0]\n",
    "y = df_clusters[1]\n",
    "\n",
    "centers = kmeans.cluster_centers_\n",
    "centers[:, 0], centers[:, 1] = centers[:, 0], centers[:, 1]\n",
    "plt.figure(2)\n",
    "plt.figure(figsize=(16, 8), dpi= 80, facecolor='w', edgecolor='k')\n",
    "plt.scatter(x, y, c=y_kmeans, s=50, cmap='viridis')\n",
    "plt.scatter(centers[:, 0], centers[:, 1], c='red', s=200, alpha=0.5)\n",
    "plt.title('K-Means Clustering after Rank-2 PCA Reduction')\n",
    "plt.xlabel('Singular Vector 1')\n",
    "plt.ylabel('Singular Vector 2')"
   ]
  },
  {
   "cell_type": "markdown",
   "metadata": {},
   "source": [
    "#### We have 3 clusters and 3 respective centroids. Each data point represents a pixel reduces to 2-dimensions. \n",
    "\n",
    "### Let's try and take each pixels assigned cluster label and plot it as an image:"
   ]
  },
  {
   "cell_type": "code",
   "execution_count": 100,
   "metadata": {},
   "outputs": [
    {
     "data": {
      "text/plain": [
       "<Figure size 432x288 with 0 Axes>"
      ]
     },
     "metadata": {},
     "output_type": "display_data"
    },
    {
     "data": {
      "image/png": "[encoded data removed]",
      "text/plain": [
       "<Figure size 720x720 with 1 Axes>"
      ]
     },
     "metadata": {},
     "output_type": "display_data"
    }
   ],
   "source": [
    "plt.figure(3)\n",
    "plt.figure(figsize=(9, 9), dpi= 80, facecolor='w', edgecolor='k')\n",
    "plt.imshow(df_clusters['clusters'].values.reshape(30, 30))\n",
    "plt.show()"
   ]
  },
  {
   "cell_type": "markdown",
   "metadata": {},
   "source": [
    "### Look familiar?"
   ]
  },
  {
   "cell_type": "markdown",
   "metadata": {},
   "source": [
    "<img src=\"img/3D-1 control.png\" style=\"width: 200px;\"/>"
   ]
  },
  {
   "cell_type": "markdown",
   "metadata": {},
   "source": [
    "### Now we can distinguish between areas of interest (donut shape of cells) and noninterest (background)"
   ]
  },
  {
   "cell_type": "code",
   "execution_count": 35,
   "metadata": {},
   "outputs": [],
   "source": [
    "# our current clusters are the \n",
    "df_clusters = df_control_feature_set_standardized\n",
    "df_clusters['clusters'] = y_kmeans\n",
    "# Get the clusters and count of pixels in each cluster\n",
    "unique, counts = np.unique(y_kmeans, return_counts=True)\n",
    "cluster_counts = dict(zip(unique, counts))\n",
    "# Assign the cluster with the highest pixel count as the white_space\n",
    "white_space_key = max(cluster_counts, key=cluster_counts.get)\n",
    "# Remove white space\n",
    "df_remove_white_space = df_clusters[df_clusters['clusters'] != white_space_key]\n",
    "del df_remove_white_space['clusters']"
   ]
  },
  {
   "cell_type": "code",
   "execution_count": 63,
   "metadata": {},
   "outputs": [
    {
     "data": {
      "text/plain": [
       "450.0                 2.550177\n",
       "452.20883534136544    0.112974\n",
       "454.41767068273094    2.553630\n",
       "456.6265060240964     2.282633\n",
       "458.83534136546183    2.371706\n",
       "461.04417670682733    2.427319\n",
       "463.2530120481928     2.567576\n",
       "465.4618473895582     2.382891\n",
       "467.6706827309237     2.441075\n",
       "469.87951807228916    2.387722\n",
       "472.0883534136546     0.000000\n",
       "474.2971887550201     0.705661\n",
       "476.50602409638554    2.208195\n",
       "478.714859437751      1.850400\n",
       "480.9236947791165     2.138659\n",
       "483.13253012048193    2.055461\n",
       "485.3413654618474     2.592366\n",
       "487.5502008032129     2.021859\n",
       "489.7590361445783     0.000000\n",
       "491.96787148594376    0.916675\n",
       "494.1767068273092     2.442609\n",
       "496.3855421686747     2.369438\n",
       "498.59437751004015    1.734108\n",
       "500.80321285140565    2.029110\n",
       "503.0120481927711     0.412125\n",
       "505.22088353413653    1.715003\n",
       "507.429718875502      2.372178\n",
       "509.6385542168675     2.392490\n",
       "511.8473895582329     2.085610\n",
       "514.0562248995984    -0.047159\n",
       "                        ...   \n",
       "935.9437751004016     0.000000\n",
       "938.1526104417671     0.000000\n",
       "940.3614457831325     0.000000\n",
       "942.570281124498      0.000000\n",
       "944.7791164658635     0.000000\n",
       "946.9879518072289     0.000000\n",
       "949.1967871485944     0.266667\n",
       "951.4056224899598    -0.057770\n",
       "953.6144578313254     0.000000\n",
       "955.8232931726907     0.000000\n",
       "958.0321285140562     1.140396\n",
       "960.2409638554217     0.000000\n",
       "962.4497991967871     0.000000\n",
       "964.6586345381526     0.000000\n",
       "966.867469879518      0.000000\n",
       "969.0763052208836     0.000000\n",
       "971.285140562249      0.754956\n",
       "973.4939759036145     0.000000\n",
       "975.7028112449799     0.266667\n",
       "977.9116465863453     0.034419\n",
       "980.1204819277108     0.367123\n",
       "982.3293172690763    -0.033333\n",
       "984.5381526104418     0.000000\n",
       "986.7469879518072     0.000000\n",
       "988.9558232931727     0.000000\n",
       "991.1646586345381    -0.387594\n",
       "993.3734939759036    -0.133147\n",
       "995.5823293172691     0.000000\n",
       "997.7911646586346     0.000000\n",
       "1000.0                0.000000\n",
       "Length: 250, dtype: float64"
      ]
     },
     "execution_count": 63,
     "metadata": {},
     "output_type": "execute_result"
    }
   ],
   "source": [
    "labels = df_remove_white_space.mean().index.values.tolist()\n",
    "y = df_remove_white_space.mean().values\n",
    "x = [float(l) for l in labels]\n",
    "df_remove_white_space.mean()"
   ]
  },
  {
   "cell_type": "code",
   "execution_count": 59,
   "metadata": {},
   "outputs": [
    {
     "data": {
      "text/plain": [
       "Text(0,0.5,'Standardized Summed Intensity')"
      ]
     },
     "execution_count": 59,
     "metadata": {},
     "output_type": "execute_result"
    },
    {
     "data": {
      "image/png": "[encoded data removed]",
      "text/plain": [
       "<Figure size 432x288 with 1 Axes>"
      ]
     },
     "metadata": {},
     "output_type": "display_data"
    }
   ],
   "source": [
    "plt.scatter(x, y, s=50, cmap='viridis')\n",
    "plt.title('K-Means Clustering after Rank-2 PCA Reduction')\n",
    "plt.xlabel('m/z bin')\n",
    "plt.ylabel('Standardized Summed Intensity')"
   ]
  },
  {
   "cell_type": "code",
   "execution_count": 61,
   "metadata": {},
   "outputs": [
    {
     "data": {
      "text/html": [
       "<div>\n",
       "<style scoped>\n",
       "    .dataframe tbody tr th:only-of-type {\n",
       "        vertical-align: middle;\n",
       "    }\n",
       "\n",
       "    .dataframe tbody tr th {\n",
       "        vertical-align: top;\n",
       "    }\n",
       "\n",
       "    .dataframe thead th {\n",
       "        text-align: right;\n",
       "    }\n",
       "</style>\n",
       "<table border=\"1\" class=\"dataframe\">\n",
       "  <thead>\n",
       "    <tr style=\"text-align: right;\">\n",
       "      <th></th>\n",
       "      <th>450.0</th>\n",
       "      <th>452.20883534136544</th>\n",
       "      <th>454.41767068273094</th>\n",
       "      <th>456.6265060240964</th>\n",
       "      <th>458.83534136546183</th>\n",
       "      <th>461.04417670682733</th>\n",
       "      <th>463.2530120481928</th>\n",
       "      <th>465.4618473895582</th>\n",
       "      <th>467.6706827309237</th>\n",
       "      <th>469.87951807228916</th>\n",
       "      <th>...</th>\n",
       "      <th>980.1204819277108</th>\n",
       "      <th>982.3293172690763</th>\n",
       "      <th>984.5381526104418</th>\n",
       "      <th>986.7469879518072</th>\n",
       "      <th>988.9558232931727</th>\n",
       "      <th>991.1646586345381</th>\n",
       "      <th>993.3734939759036</th>\n",
       "      <th>995.5823293172691</th>\n",
       "      <th>997.7911646586346</th>\n",
       "      <th>1000.0</th>\n",
       "    </tr>\n",
       "  </thead>\n",
       "  <tbody>\n",
       "    <tr>\n",
       "      <th>0</th>\n",
       "      <td>0.928827</td>\n",
       "      <td>10.617636</td>\n",
       "      <td>0.610132</td>\n",
       "      <td>-0.293381</td>\n",
       "      <td>-0.31221</td>\n",
       "      <td>-0.034205</td>\n",
       "      <td>0.804553</td>\n",
       "      <td>-0.503369</td>\n",
       "      <td>-0.33669</td>\n",
       "      <td>-0.060366</td>\n",
       "      <td>...</td>\n",
       "      <td>-0.408177</td>\n",
       "      <td>-0.033333</td>\n",
       "      <td>0.0</td>\n",
       "      <td>0.0</td>\n",
       "      <td>0.0</td>\n",
       "      <td>-0.597894</td>\n",
       "      <td>-0.133147</td>\n",
       "      <td>0.0</td>\n",
       "      <td>0.0</td>\n",
       "      <td>0.0</td>\n",
       "    </tr>\n",
       "    <tr>\n",
       "      <th>0</th>\n",
       "      <td>0.358183</td>\n",
       "      <td>6.094947</td>\n",
       "      <td>0.360997</td>\n",
       "      <td>-0.293381</td>\n",
       "      <td>-0.31221</td>\n",
       "      <td>0.019161</td>\n",
       "      <td>0.448514</td>\n",
       "      <td>-0.503369</td>\n",
       "      <td>-0.33669</td>\n",
       "      <td>-0.266148</td>\n",
       "      <td>...</td>\n",
       "      <td>3.384116</td>\n",
       "      <td>-0.033333</td>\n",
       "      <td>0.0</td>\n",
       "      <td>0.0</td>\n",
       "      <td>0.0</td>\n",
       "      <td>-0.597894</td>\n",
       "      <td>-0.133147</td>\n",
       "      <td>0.0</td>\n",
       "      <td>0.0</td>\n",
       "      <td>0.0</td>\n",
       "    </tr>\n",
       "    <tr>\n",
       "      <th>0</th>\n",
       "      <td>-0.637789</td>\n",
       "      <td>-0.567337</td>\n",
       "      <td>-0.857177</td>\n",
       "      <td>-0.293381</td>\n",
       "      <td>-0.31221</td>\n",
       "      <td>-0.821566</td>\n",
       "      <td>-0.493169</td>\n",
       "      <td>-0.503369</td>\n",
       "      <td>-0.33669</td>\n",
       "      <td>-0.828612</td>\n",
       "      <td>...</td>\n",
       "      <td>-0.408177</td>\n",
       "      <td>-0.033333</td>\n",
       "      <td>0.0</td>\n",
       "      <td>0.0</td>\n",
       "      <td>0.0</td>\n",
       "      <td>-0.597894</td>\n",
       "      <td>-0.133147</td>\n",
       "      <td>0.0</td>\n",
       "      <td>0.0</td>\n",
       "      <td>0.0</td>\n",
       "    </tr>\n",
       "    <tr>\n",
       "      <th>0</th>\n",
       "      <td>-0.183879</td>\n",
       "      <td>1.399723</td>\n",
       "      <td>-0.364067</td>\n",
       "      <td>-0.293381</td>\n",
       "      <td>-0.31221</td>\n",
       "      <td>-0.218896</td>\n",
       "      <td>0.590063</td>\n",
       "      <td>-0.503369</td>\n",
       "      <td>-0.33669</td>\n",
       "      <td>-0.316772</td>\n",
       "      <td>...</td>\n",
       "      <td>-0.408177</td>\n",
       "      <td>-0.033333</td>\n",
       "      <td>0.0</td>\n",
       "      <td>0.0</td>\n",
       "      <td>0.0</td>\n",
       "      <td>-0.597894</td>\n",
       "      <td>-0.133147</td>\n",
       "      <td>0.0</td>\n",
       "      <td>0.0</td>\n",
       "      <td>0.0</td>\n",
       "    </tr>\n",
       "    <tr>\n",
       "      <th>0</th>\n",
       "      <td>-0.474041</td>\n",
       "      <td>-0.567337</td>\n",
       "      <td>-0.496392</td>\n",
       "      <td>-0.293381</td>\n",
       "      <td>-0.31221</td>\n",
       "      <td>-0.821566</td>\n",
       "      <td>-0.493169</td>\n",
       "      <td>-0.503369</td>\n",
       "      <td>-0.33669</td>\n",
       "      <td>-0.828612</td>\n",
       "      <td>...</td>\n",
       "      <td>-0.408177</td>\n",
       "      <td>-0.033333</td>\n",
       "      <td>0.0</td>\n",
       "      <td>0.0</td>\n",
       "      <td>0.0</td>\n",
       "      <td>-0.597894</td>\n",
       "      <td>-0.133147</td>\n",
       "      <td>0.0</td>\n",
       "      <td>0.0</td>\n",
       "      <td>0.0</td>\n",
       "    </tr>\n",
       "  </tbody>\n",
       "</table>\n",
       "<p>5 rows × 250 columns</p>\n",
       "</div>"
      ],
      "text/plain": [
       "      450.0  452.20883534136544  454.41767068273094  456.6265060240964  \\\n",
       "0  0.928827           10.617636            0.610132          -0.293381   \n",
       "0  0.358183            6.094947            0.360997          -0.293381   \n",
       "0 -0.637789           -0.567337           -0.857177          -0.293381   \n",
       "0 -0.183879            1.399723           -0.364067          -0.293381   \n",
       "0 -0.474041           -0.567337           -0.496392          -0.293381   \n",
       "\n",
       "   458.83534136546183  461.04417670682733  463.2530120481928  \\\n",
       "0            -0.31221           -0.034205           0.804553   \n",
       "0            -0.31221            0.019161           0.448514   \n",
       "0            -0.31221           -0.821566          -0.493169   \n",
       "0            -0.31221           -0.218896           0.590063   \n",
       "0            -0.31221           -0.821566          -0.493169   \n",
       "\n",
       "   465.4618473895582  467.6706827309237  469.87951807228916   ...    \\\n",
       "0          -0.503369           -0.33669           -0.060366   ...     \n",
       "0          -0.503369           -0.33669           -0.266148   ...     \n",
       "0          -0.503369           -0.33669           -0.828612   ...     \n",
       "0          -0.503369           -0.33669           -0.316772   ...     \n",
       "0          -0.503369           -0.33669           -0.828612   ...     \n",
       "\n",
       "   980.1204819277108  982.3293172690763  984.5381526104418  986.7469879518072  \\\n",
       "0          -0.408177          -0.033333                0.0                0.0   \n",
       "0           3.384116          -0.033333                0.0                0.0   \n",
       "0          -0.408177          -0.033333                0.0                0.0   \n",
       "0          -0.408177          -0.033333                0.0                0.0   \n",
       "0          -0.408177          -0.033333                0.0                0.0   \n",
       "\n",
       "   988.9558232931727  991.1646586345381  993.3734939759036  995.5823293172691  \\\n",
       "0                0.0          -0.597894          -0.133147                0.0   \n",
       "0                0.0          -0.597894          -0.133147                0.0   \n",
       "0                0.0          -0.597894          -0.133147                0.0   \n",
       "0                0.0          -0.597894          -0.133147                0.0   \n",
       "0                0.0          -0.597894          -0.133147                0.0   \n",
       "\n",
       "   997.7911646586346  1000.0  \n",
       "0                0.0     0.0  \n",
       "0                0.0     0.0  \n",
       "0                0.0     0.0  \n",
       "0                0.0     0.0  \n",
       "0                0.0     0.0  \n",
       "\n",
       "[5 rows x 250 columns]"
      ]
     },
     "execution_count": 61,
     "metadata": {},
     "output_type": "execute_result"
    }
   ],
   "source": [
    "df_control_feature_set_standardized.head()"
   ]
  },
  {
   "cell_type": "code",
   "execution_count": null,
   "metadata": {},
   "outputs": [],
   "source": []
  }
 ],
 "metadata": {
  "kernelspec": {
   "display_name": "Python 3",
   "language": "python",
   "name": "python3"
  },
  "language_info": {
   "codemirror_mode": {
    "name": "ipython",
    "version": 3
   },
   "file_extension": ".py",
   "mimetype": "text/x-python",
   "name": "python",
   "nbconvert_exporter": "python",
   "pygments_lexer": "ipython3",
   "version": "3.6.5"
  }
 },
 "nbformat": 4,
 "nbformat_minor": 2
}
