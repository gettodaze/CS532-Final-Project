{
 "cells": [
  {
   "cell_type": "markdown",
   "metadata": {},
   "source": [
    "<center><h1>CS 532 Final Project</h1></center>\n",
    "<center><h1>Using Machine Learning to Solve Mass Spectrometry Problems</h1></center>\n",
    "<br>\n",
    "<center><h3>Nik Burmeister | Yusi Cui | John Mccloskey</h3></center>"
   ]
  },
  {
   "cell_type": "markdown",
   "metadata": {},
   "source": [
    "# Activity Background\n",
    "\n",
    "We are now going to apply PCA and clustering to the problem defined in our lecture slides. We will then formulate a least squares classifier to train our weights. We will then optimize using cross validation.\n",
    "\n",
    "Let's get to it!"
   ]
  },
  {
   "cell_type": "markdown",
   "metadata": {},
   "source": [
    "# Step 1: \n",
    "# Let's start with importing some popular python data analysis packages\n",
    "\n",
    "Please execute the cell below. You can execute cells by clicking the cell so that your cursor is in the cell and holding shift and pressing enter.This will import, among other things, numpy and pandas-two widely used data analysis packages.  "
   ]
  },
  {
   "cell_type": "code",
   "execution_count": 33,
   "metadata": {},
   "outputs": [],
   "source": [
    "import pandas as pd\n",
    "import numpy as np\n",
    "from IPython.display import Image"
   ]
  },
  {
   "cell_type": "markdown",
   "metadata": {},
   "source": [
    "# Step 2: \n",
    "# Read In Mass Spectrometry Data\n",
    "\n",
    "Presented below is a function that reads in mass spectrometry data. For convenience we have converted the data into CSV files. \n",
    "\n",
    "Please execute the function below to read in two data sets: one containing data for a control mouse and one for an injured mouse."
   ]
  },
  {
   "cell_type": "code",
   "execution_count": 30,
   "metadata": {},
   "outputs": [],
   "source": [
    "def read_spectrometry_data(control_file_name, injured_file_name):\n",
    "    \"\"\"\n",
    "    HELPER METHOD FOR READING DATA FROM CSV\n",
    "    :return:\n",
    "    \"\"\"\n",
    "    df_intensities = pd.read_csv('rawData/{control_file_name}.csv'.format(control_file_name=control_file_name),\n",
    "                                 index_col=0)\n",
    "    df_mass = pd.read_csv('rawData/{injured_file_name}.csv'.format(injured_file_name=injured_file_name), \n",
    "                          index_col=0)\n",
    "    return df_mass, df_intensities"
   ]
  },
  {
   "cell_type": "markdown",
   "metadata": {},
   "source": [
    "### Notice that we are only loading control data. As mentioned before, there are mass and intensity data files for both control and injured data.\n",
    "\n",
    "### Note: These files are quite large (>100mb) so loading the data may take a few seconds."
   ]
  },
  {
   "cell_type": "code",
   "execution_count": 27,
   "metadata": {},
   "outputs": [],
   "source": [
    "CONTROL_FILE_NAME = \"Intensity_Control_Day03_01\"\n",
    "INJURED_FILE_NAME = \"Mass_Control_Day03_01\"\n",
    "df_mass, df_intensities = read_spectrometry_data(CONTROL_FILE_NAME, INJURED_FILE_NAME)"
   ]
  },
  {
   "cell_type": "markdown",
   "metadata": {},
   "source": [
    "#### Let's inspect the dimensions of the mass dataframe (df_mass). Execute the following code below: df_mass.head()"
   ]
  },
  {
   "cell_type": "code",
   "execution_count": 28,
   "metadata": {},
   "outputs": [
    {
     "data": {
      "text/html": [
       "<div>\n",
       "<style scoped>\n",
       "    .dataframe tbody tr th:only-of-type {\n",
       "        vertical-align: middle;\n",
       "    }\n",
       "\n",
       "    .dataframe tbody tr th {\n",
       "        vertical-align: top;\n",
       "    }\n",
       "\n",
       "    .dataframe thead th {\n",
       "        text-align: right;\n",
       "    }\n",
       "</style>\n",
       "<table border=\"1\" class=\"dataframe\">\n",
       "  <thead>\n",
       "    <tr style=\"text-align: right;\">\n",
       "      <th></th>\n",
       "      <th>0</th>\n",
       "      <th>1</th>\n",
       "      <th>2</th>\n",
       "      <th>3</th>\n",
       "      <th>4</th>\n",
       "      <th>5</th>\n",
       "      <th>6</th>\n",
       "      <th>7</th>\n",
       "      <th>8</th>\n",
       "      <th>9</th>\n",
       "      <th>...</th>\n",
       "      <th>890</th>\n",
       "      <th>891</th>\n",
       "      <th>892</th>\n",
       "      <th>893</th>\n",
       "      <th>894</th>\n",
       "      <th>895</th>\n",
       "      <th>896</th>\n",
       "      <th>897</th>\n",
       "      <th>898</th>\n",
       "      <th>899</th>\n",
       "    </tr>\n",
       "  </thead>\n",
       "  <tbody>\n",
       "    <tr>\n",
       "      <th>0</th>\n",
       "      <td>450.038079</td>\n",
       "      <td>450.038080</td>\n",
       "      <td>450.038089</td>\n",
       "      <td>450.038088</td>\n",
       "      <td>450.005630</td>\n",
       "      <td>450.038088</td>\n",
       "      <td>450.041702</td>\n",
       "      <td>450.038089</td>\n",
       "      <td>450.038089</td>\n",
       "      <td>450.038089</td>\n",
       "      <td>...</td>\n",
       "      <td>450.041695</td>\n",
       "      <td>450.041697</td>\n",
       "      <td>450.038088</td>\n",
       "      <td>450.038080</td>\n",
       "      <td>450.038083</td>\n",
       "      <td>450.041689</td>\n",
       "      <td>450.041698</td>\n",
       "      <td>450.038086</td>\n",
       "      <td>450.012832</td>\n",
       "      <td>450.041688</td>\n",
       "    </tr>\n",
       "    <tr>\n",
       "      <th>1</th>\n",
       "      <td>450.041685</td>\n",
       "      <td>450.041687</td>\n",
       "      <td>450.041695</td>\n",
       "      <td>450.041695</td>\n",
       "      <td>450.041695</td>\n",
       "      <td>450.041695</td>\n",
       "      <td>450.045309</td>\n",
       "      <td>450.041695</td>\n",
       "      <td>450.041695</td>\n",
       "      <td>450.041695</td>\n",
       "      <td>...</td>\n",
       "      <td>450.045302</td>\n",
       "      <td>450.045304</td>\n",
       "      <td>450.041695</td>\n",
       "      <td>450.041687</td>\n",
       "      <td>450.041690</td>\n",
       "      <td>450.045296</td>\n",
       "      <td>450.045305</td>\n",
       "      <td>450.041693</td>\n",
       "      <td>450.016438</td>\n",
       "      <td>450.045295</td>\n",
       "    </tr>\n",
       "    <tr>\n",
       "      <th>2</th>\n",
       "      <td>450.045292</td>\n",
       "      <td>450.045294</td>\n",
       "      <td>450.045302</td>\n",
       "      <td>450.045302</td>\n",
       "      <td>450.045302</td>\n",
       "      <td>450.045302</td>\n",
       "      <td>450.048916</td>\n",
       "      <td>450.045302</td>\n",
       "      <td>450.045302</td>\n",
       "      <td>450.045302</td>\n",
       "      <td>...</td>\n",
       "      <td>450.048909</td>\n",
       "      <td>450.048910</td>\n",
       "      <td>450.045302</td>\n",
       "      <td>450.045294</td>\n",
       "      <td>450.045296</td>\n",
       "      <td>450.048903</td>\n",
       "      <td>450.048912</td>\n",
       "      <td>450.045299</td>\n",
       "      <td>450.020045</td>\n",
       "      <td>450.048902</td>\n",
       "    </tr>\n",
       "    <tr>\n",
       "      <th>3</th>\n",
       "      <td>450.048899</td>\n",
       "      <td>450.048900</td>\n",
       "      <td>450.048909</td>\n",
       "      <td>450.048909</td>\n",
       "      <td>450.048909</td>\n",
       "      <td>450.048909</td>\n",
       "      <td>450.052522</td>\n",
       "      <td>450.048909</td>\n",
       "      <td>450.048909</td>\n",
       "      <td>450.048909</td>\n",
       "      <td>...</td>\n",
       "      <td>450.052516</td>\n",
       "      <td>450.052517</td>\n",
       "      <td>450.048909</td>\n",
       "      <td>450.048901</td>\n",
       "      <td>450.048903</td>\n",
       "      <td>450.052510</td>\n",
       "      <td>450.052519</td>\n",
       "      <td>450.048906</td>\n",
       "      <td>450.041684</td>\n",
       "      <td>450.052509</td>\n",
       "    </tr>\n",
       "    <tr>\n",
       "      <th>4</th>\n",
       "      <td>450.052506</td>\n",
       "      <td>450.052507</td>\n",
       "      <td>450.052516</td>\n",
       "      <td>450.052516</td>\n",
       "      <td>450.052516</td>\n",
       "      <td>450.052515</td>\n",
       "      <td>450.056129</td>\n",
       "      <td>450.052516</td>\n",
       "      <td>450.052516</td>\n",
       "      <td>450.052516</td>\n",
       "      <td>...</td>\n",
       "      <td>450.056122</td>\n",
       "      <td>450.056124</td>\n",
       "      <td>450.052516</td>\n",
       "      <td>450.052507</td>\n",
       "      <td>450.052510</td>\n",
       "      <td>450.056117</td>\n",
       "      <td>450.056126</td>\n",
       "      <td>450.052513</td>\n",
       "      <td>450.045291</td>\n",
       "      <td>450.056115</td>\n",
       "    </tr>\n",
       "  </tbody>\n",
       "</table>\n",
       "<p>5 rows × 900 columns</p>\n",
       "</div>"
      ],
      "text/plain": [
       "            0           1           2           3           4           5  \\\n",
       "0  450.038079  450.038080  450.038089  450.038088  450.005630  450.038088   \n",
       "1  450.041685  450.041687  450.041695  450.041695  450.041695  450.041695   \n",
       "2  450.045292  450.045294  450.045302  450.045302  450.045302  450.045302   \n",
       "3  450.048899  450.048900  450.048909  450.048909  450.048909  450.048909   \n",
       "4  450.052506  450.052507  450.052516  450.052516  450.052516  450.052515   \n",
       "\n",
       "            6           7           8           9     ...             890  \\\n",
       "0  450.041702  450.038089  450.038089  450.038089     ...      450.041695   \n",
       "1  450.045309  450.041695  450.041695  450.041695     ...      450.045302   \n",
       "2  450.048916  450.045302  450.045302  450.045302     ...      450.048909   \n",
       "3  450.052522  450.048909  450.048909  450.048909     ...      450.052516   \n",
       "4  450.056129  450.052516  450.052516  450.052516     ...      450.056122   \n",
       "\n",
       "          891         892         893         894         895         896  \\\n",
       "0  450.041697  450.038088  450.038080  450.038083  450.041689  450.041698   \n",
       "1  450.045304  450.041695  450.041687  450.041690  450.045296  450.045305   \n",
       "2  450.048910  450.045302  450.045294  450.045296  450.048903  450.048912   \n",
       "3  450.052517  450.048909  450.048901  450.048903  450.052510  450.052519   \n",
       "4  450.056124  450.052516  450.052507  450.052510  450.056117  450.056126   \n",
       "\n",
       "          897         898         899  \n",
       "0  450.038086  450.012832  450.041688  \n",
       "1  450.041693  450.016438  450.045295  \n",
       "2  450.045299  450.020045  450.048902  \n",
       "3  450.048906  450.041684  450.052509  \n",
       "4  450.052513  450.045291  450.056115  \n",
       "\n",
       "[5 rows x 900 columns]"
      ]
     },
     "execution_count": 28,
     "metadata": {},
     "output_type": "execute_result"
    }
   ],
   "source": [
    "df_mass.head()"
   ]
  },
  {
   "cell_type": "markdown",
   "metadata": {},
   "source": [
    "### Data Background: \n",
    "The matrix you just loaded is 10,000 x 892. Each column is a feature vector. So we have almost 900 data samples, and 10,000 features for each sample.\n",
    "\n",
    "Furthermore, each sample represents a 'pixel' in the image. An image has around 900 pixels, but sometimes the size varies. "
   ]
  },
  {
   "cell_type": "markdown",
   "metadata": {},
   "source": [
    "### Let's see what a feature vector (a column) looks like:"
   ]
  },
  {
   "cell_type": "code",
   "execution_count": 60,
   "metadata": {},
   "outputs": [
    {
     "data": {
      "text/plain": [
       "Text(0,0.5,'Intensity')"
      ]
     },
     "execution_count": 60,
     "metadata": {},
     "output_type": "execute_result"
    },
    {
     "data": {
      "text/plain": [
       "<Figure size 432x288 with 0 Axes>"
      ]
     },
     "metadata": {},
     "output_type": "display_data"
    },
    {
     "data": {
      "image/png": "[encoded data removed]",
      "text/plain": [
       "<Figure size 1280x640 with 1 Axes>"
      ]
     },
     "metadata": {},
     "output_type": "display_data"
    }
   ],
   "source": [
    "import matplotlib.pyplot as plt\n",
    "from matplotlib.pyplot import plot, scatter\n",
    "x = df_mass.iloc[:, 0]\n",
    "y = df_intensities.iloc[:, 0]\n",
    "plt.figure(1)\n",
    "plt.figure(figsize=(16, 8), dpi= 80, facecolor='w', edgecolor='k')\n",
    "colors = np.random.rand(3)\n",
    "scatter(x.values, y.values,  c=colors)\n",
    "plt.xlabel('MZS')\n",
    "plt.ylabel('Intensity')"
   ]
  },
  {
   "cell_type": "markdown",
   "metadata": {},
   "source": [
    "## Recap:\n",
    "\n",
    "Our control data consists of intensities (y axis) and mass-to-charge ratios (x axis). This data is is located in two dataframes: df_mass and df_intensities. Each column in these dataframes represent a sample. Each sample represents a pixel in the image. An image has a dimension around 30x30 pixels. We have illustrated this in the diagram below:"
   ]
  },
  {
   "cell_type": "markdown",
   "metadata": {},
   "source": [
    "![title](img/pixel.png?1)"
   ]
  },
  {
   "cell_type": "markdown",
   "metadata": {},
   "source": [
    "# Step 3:\n",
    "# Let's Clean Some Data\n",
    "\n",
    "As you have seen, our data set is quite large. Furthermore, for a given pixel, there is a lot of data we do not need. We are interested in the \"peak\" intensities for a given pixel. This will tell us the most abundant molecules for a given tissue region. In order to reduce our data set, we will use the signal function from scipy to find the indexes where the peaks occur. We will then filter the data by these peaks.\n",
    "\n",
    "Execute the following cell to find the peaks and graph the resulting data:"
   ]
  },
  {
   "cell_type": "code",
   "execution_count": 86,
   "metadata": {},
   "outputs": [
    {
     "data": {
      "text/plain": [
       "Text(0,0.5,'Intensity')"
      ]
     },
     "execution_count": 86,
     "metadata": {},
     "output_type": "execute_result"
    },
    {
     "data": {
      "text/plain": [
       "<Figure size 432x288 with 0 Axes>"
      ]
     },
     "metadata": {},
     "output_type": "display_data"
    },
    {
     "data": {
      "image/png": "[encoded data removed]",
      "text/plain": [
       "<Figure size 1280x640 with 1 Axes>"
      ]
     },
     "metadata": {},
     "output_type": "display_data"
    }
   ],
   "source": [
    "import scipy.signal as signal\n",
    "\n",
    "def find_pixel_peaks(x, y):\n",
    "    pixel = pd.DataFrame({'mzs': x.values, 'intensities': y.values})\n",
    "    peaks = signal.find_peaks(y, height=50000)\n",
    "    pixel = pixel[pixel.index.isin(peaks[0])]\n",
    "    return pixel\n",
    "\n",
    "pixel_peaks = find_pixel_peaks(df_mass.iloc[:, 0], df_intensities.iloc[:, 0])\n",
    "plt.figure(2)\n",
    "plt.figure(figsize=(16, 8), dpi= 80, facecolor='w', edgecolor='k')\n",
    "scatter(pixel['mzs'], pixel['intensities'],  c=[0.00903845, 0.27883565, 0.57728387, 0.68528783])\n",
    "plt.xlabel('MZS')\n",
    "plt.ylabel('Intensity')"
   ]
  },
  {
   "cell_type": "markdown",
   "metadata": {},
   "source": [
    "As you can see, the signal function finds the peak intensities. We set a hard threshold of 50,000, meaning the function not consider anything below a peak. Note: for this purposes of this exercise this threshold was set by observation. This will eventually allow us to use sparse regularization to find the important features."
   ]
  },
  {
   "cell_type": "markdown",
   "metadata": {},
   "source": [
    "### Data Alignment issues\n",
    "\n",
    "Our goal will eventually be to compare the control data to the injured data. Another data issue is that our MZS axes may not align when combining the control and sample data to do a regression. In order to fix this, we will bin the data. For each bin, we will add all intensities that fall in the bin's range. Other combination mathods, such as taking the mean, median, and max, could also be used. For the purposes of this exercise, we will only consider adding the intensities.\n",
    "\n",
    "Execute the code below. The following code will iterate over each pixel in the image and find the peaks. After finding the peaks of each pixel, we will make a linspace of 250 bins. We then iterate over the bins, find all intensities in that range, and sum them together.\n",
    "\n",
    "#### Note: the following code may take up to 4 min to run"
   ]
  },
  {
   "cell_type": "code",
   "execution_count": 161,
   "metadata": {},
   "outputs": [],
   "source": [
    "from numpy import linspace\n",
    "\n",
    "# FIND THE NUMBER OF SAMPLES\n",
    "pixel_count = len(df_mass.columns)\n",
    "\n",
    "# CREATE A DATAFRAME THAT WILL HOLD ALL FILTER PIXELS\n",
    "master_df = pd.DataFrame()\n",
    "\n",
    "# FIND PEAKS FOR EACH PIXEL, ADD TO MASTER_DF\n",
    "for i in range(pixel_count):\n",
    "    pixel_x = df_mass.iloc[:, i]\n",
    "    pixel_y = df_intensities.iloc[:, i]\n",
    "    df = find_pixel_peaks(pixel_x, pixel_y)\n",
    "    df['pixel_id'] = i\n",
    "    master_df = master_df.append(df, ignore_index=True)\n",
    "\n",
    "# NUMBER OF BINS FOR THE MZS AXIS\n",
    "number_of_bins = 250\n",
    "# PHYSICAL MIN AND MAX OF AXIS\n",
    "min_mzs = 450\n",
    "max_mzs = 1000\n",
    "# MAKE THE LINSPACE\n",
    "bins = linspace(min_mzs, max_mzs, number_of_bins)\n",
    "col_set = list(range(pixel_count))\n",
    "\n",
    "# CREATE NEW DATAFRAME WHERE COLUMNS ARE THE BINS\n",
    "aggregated_df = pd.DataFrame(columns=list(bins[:-1]))\n",
    "\n",
    "for i in col_set:\n",
    "    curr_pixel = master_df[master_df['pixel_id'] == i]\n",
    "    pixel_binned = {}\n",
    "    for index in range(1, len(bins)):\n",
    "        lower_bound = bins[index - 1]\n",
    "        upper_bound = bins[index]\n",
    "        curr_bin = curr_pixel[curr_pixel['mzs'].between(lower_bound, upper_bound)]\n",
    "        bin_intensity = curr_bin['intensities'].sum()\n",
    "        pixel_binned[lower_bound] = bin_intensity\n",
    "    temp = pd.DataFrame([pixel_binned])\n",
    "    aggregated_df = aggregated_df.append(temp, ignore_index=True)"
   ]
  },
  {
   "cell_type": "markdown",
   "metadata": {},
   "source": [
    "### Run the following code. Inspect the aggregated_df data. What do you notice about the shape?"
   ]
  },
  {
   "cell_type": "code",
   "execution_count": 159,
   "metadata": {},
   "outputs": [
    {
     "data": {
      "text/html": [
       "<div>\n",
       "<style scoped>\n",
       "    .dataframe tbody tr th:only-of-type {\n",
       "        vertical-align: middle;\n",
       "    }\n",
       "\n",
       "    .dataframe tbody tr th {\n",
       "        vertical-align: top;\n",
       "    }\n",
       "\n",
       "    .dataframe thead th {\n",
       "        text-align: right;\n",
       "    }\n",
       "</style>\n",
       "<table border=\"1\" class=\"dataframe\">\n",
       "  <thead>\n",
       "    <tr style=\"text-align: right;\">\n",
       "      <th></th>\n",
       "      <th>450.0</th>\n",
       "      <th>452.20883534136544</th>\n",
       "      <th>454.41767068273094</th>\n",
       "      <th>456.6265060240964</th>\n",
       "      <th>458.83534136546183</th>\n",
       "      <th>461.04417670682733</th>\n",
       "      <th>463.2530120481928</th>\n",
       "      <th>465.4618473895582</th>\n",
       "      <th>467.6706827309237</th>\n",
       "      <th>469.87951807228916</th>\n",
       "      <th>...</th>\n",
       "      <th>977.9116465863453</th>\n",
       "      <th>980.1204819277108</th>\n",
       "      <th>982.3293172690763</th>\n",
       "      <th>984.5381526104418</th>\n",
       "      <th>986.7469879518072</th>\n",
       "      <th>988.9558232931727</th>\n",
       "      <th>991.1646586345381</th>\n",
       "      <th>993.3734939759036</th>\n",
       "      <th>995.5823293172691</th>\n",
       "      <th>997.7911646586346</th>\n",
       "    </tr>\n",
       "  </thead>\n",
       "  <tbody>\n",
       "    <tr>\n",
       "      <th>0</th>\n",
       "      <td>860810.280</td>\n",
       "      <td>377199.400</td>\n",
       "      <td>229553.930</td>\n",
       "      <td>0.0</td>\n",
       "      <td>0.0</td>\n",
       "      <td>76474.47</td>\n",
       "      <td>165438.000</td>\n",
       "      <td>0.0</td>\n",
       "      <td>0.0</td>\n",
       "      <td>113465.70</td>\n",
       "      <td>...</td>\n",
       "      <td>126077.070</td>\n",
       "      <td>0.000</td>\n",
       "      <td>0.0</td>\n",
       "      <td>0.0</td>\n",
       "      <td>0.0</td>\n",
       "      <td>0.0</td>\n",
       "      <td>0.0</td>\n",
       "      <td>0.0</td>\n",
       "      <td>0.0</td>\n",
       "      <td>NaN</td>\n",
       "    </tr>\n",
       "    <tr>\n",
       "      <th>1</th>\n",
       "      <td>620420.414</td>\n",
       "      <td>224677.290</td>\n",
       "      <td>190578.000</td>\n",
       "      <td>0.0</td>\n",
       "      <td>0.0</td>\n",
       "      <td>81657.87</td>\n",
       "      <td>120048.914</td>\n",
       "      <td>0.0</td>\n",
       "      <td>0.0</td>\n",
       "      <td>83072.87</td>\n",
       "      <td>...</td>\n",
       "      <td>151415.230</td>\n",
       "      <td>81755.586</td>\n",
       "      <td>0.0</td>\n",
       "      <td>0.0</td>\n",
       "      <td>0.0</td>\n",
       "      <td>0.0</td>\n",
       "      <td>0.0</td>\n",
       "      <td>0.0</td>\n",
       "      <td>0.0</td>\n",
       "      <td>NaN</td>\n",
       "    </tr>\n",
       "    <tr>\n",
       "      <th>2</th>\n",
       "      <td>200856.444</td>\n",
       "      <td>0.000</td>\n",
       "      <td>0.000</td>\n",
       "      <td>0.0</td>\n",
       "      <td>0.0</td>\n",
       "      <td>0.00</td>\n",
       "      <td>0.000</td>\n",
       "      <td>0.0</td>\n",
       "      <td>0.0</td>\n",
       "      <td>0.00</td>\n",
       "      <td>...</td>\n",
       "      <td>66193.650</td>\n",
       "      <td>0.000</td>\n",
       "      <td>0.0</td>\n",
       "      <td>0.0</td>\n",
       "      <td>0.0</td>\n",
       "      <td>0.0</td>\n",
       "      <td>0.0</td>\n",
       "      <td>0.0</td>\n",
       "      <td>0.0</td>\n",
       "      <td>NaN</td>\n",
       "    </tr>\n",
       "    <tr>\n",
       "      <th>3</th>\n",
       "      <td>392070.860</td>\n",
       "      <td>66336.664</td>\n",
       "      <td>77144.920</td>\n",
       "      <td>0.0</td>\n",
       "      <td>0.0</td>\n",
       "      <td>58535.94</td>\n",
       "      <td>138094.050</td>\n",
       "      <td>0.0</td>\n",
       "      <td>0.0</td>\n",
       "      <td>75595.95</td>\n",
       "      <td>...</td>\n",
       "      <td>53630.855</td>\n",
       "      <td>0.000</td>\n",
       "      <td>0.0</td>\n",
       "      <td>0.0</td>\n",
       "      <td>0.0</td>\n",
       "      <td>0.0</td>\n",
       "      <td>0.0</td>\n",
       "      <td>0.0</td>\n",
       "      <td>0.0</td>\n",
       "      <td>NaN</td>\n",
       "    </tr>\n",
       "    <tr>\n",
       "      <th>4</th>\n",
       "      <td>269837.080</td>\n",
       "      <td>0.000</td>\n",
       "      <td>56443.164</td>\n",
       "      <td>0.0</td>\n",
       "      <td>0.0</td>\n",
       "      <td>0.00</td>\n",
       "      <td>0.000</td>\n",
       "      <td>0.0</td>\n",
       "      <td>0.0</td>\n",
       "      <td>0.00</td>\n",
       "      <td>...</td>\n",
       "      <td>51652.086</td>\n",
       "      <td>0.000</td>\n",
       "      <td>0.0</td>\n",
       "      <td>0.0</td>\n",
       "      <td>0.0</td>\n",
       "      <td>0.0</td>\n",
       "      <td>0.0</td>\n",
       "      <td>0.0</td>\n",
       "      <td>0.0</td>\n",
       "      <td>NaN</td>\n",
       "    </tr>\n",
       "  </tbody>\n",
       "</table>\n",
       "<p>5 rows × 249 columns</p>\n",
       "</div>"
      ],
      "text/plain": [
       "   450.000000  452.208835  454.417671  456.626506  458.835341  461.044177  \\\n",
       "0  860810.280  377199.400  229553.930         0.0         0.0    76474.47   \n",
       "1  620420.414  224677.290  190578.000         0.0         0.0    81657.87   \n",
       "2  200856.444       0.000       0.000         0.0         0.0        0.00   \n",
       "3  392070.860   66336.664   77144.920         0.0         0.0    58535.94   \n",
       "4  269837.080       0.000   56443.164         0.0         0.0        0.00   \n",
       "\n",
       "   463.253012  465.461847  467.670683  469.879518     ...      977.911647  \\\n",
       "0  165438.000         0.0         0.0   113465.70     ...      126077.070   \n",
       "1  120048.914         0.0         0.0    83072.87     ...      151415.230   \n",
       "2       0.000         0.0         0.0        0.00     ...       66193.650   \n",
       "3  138094.050         0.0         0.0    75595.95     ...       53630.855   \n",
       "4       0.000         0.0         0.0        0.00     ...       51652.086   \n",
       "\n",
       "   980.120482  982.329317  984.538153  986.746988  988.955823  991.164659  \\\n",
       "0       0.000         0.0         0.0         0.0         0.0         0.0   \n",
       "1   81755.586         0.0         0.0         0.0         0.0         0.0   \n",
       "2       0.000         0.0         0.0         0.0         0.0         0.0   \n",
       "3       0.000         0.0         0.0         0.0         0.0         0.0   \n",
       "4       0.000         0.0         0.0         0.0         0.0         0.0   \n",
       "\n",
       "   993.373494  995.582329  997.791165  \n",
       "0         0.0         0.0         NaN  \n",
       "1         0.0         0.0         NaN  \n",
       "2         0.0         0.0         NaN  \n",
       "3         0.0         0.0         NaN  \n",
       "4         0.0         0.0         NaN  \n",
       "\n",
       "[5 rows x 249 columns]"
      ]
     },
     "execution_count": 159,
     "metadata": {},
     "output_type": "execute_result"
    }
   ],
   "source": [
    "aggregated_df.head()"
   ]
  },
  {
   "cell_type": "code",
   "execution_count": 160,
   "metadata": {},
   "outputs": [
    {
     "data": {
      "text/plain": [
       "(900, 249)"
      ]
     },
     "execution_count": 160,
     "metadata": {},
     "output_type": "execute_result"
    }
   ],
   "source": [
    "aggregated_df.values.shape"
   ]
  },
  {
   "cell_type": "markdown",
   "metadata": {},
   "source": [
    "As seen above, we have reduced our data set from 10,000x892 to 892x250."
   ]
  },
  {
   "cell_type": "markdown",
   "metadata": {},
   "source": [
    "# Step 4\n",
    "# PCA, Clustering, and Building a Classifier"
   ]
  },
  {
   "cell_type": "markdown",
   "metadata": {},
   "source": [
    "We will now use machine learning techniques that we studied in class to find the important features in our data, group them by cluster, and then try to classify injured vs uninjured samples.\n",
    "\n",
    "Let's do it!"
   ]
  },
  {
   "cell_type": "markdown",
   "metadata": {},
   "source": [
    "### PCA\n",
    "\n",
    "As you have seen, data cleanup takes time. Also, 250 bins may be too small, and cause us to lose important information. For the purposes of this activity, we have prepared a data set with 1000 bins. \n",
    "\n",
    "#### First, import some packages:"
   ]
  },
  {
   "cell_type": "code",
   "execution_count": 177,
   "metadata": {},
   "outputs": [],
   "source": [
    "from numpy import linspace, dot, transpose\n",
    "from numpy.linalg import svd, pinv\n",
    "from sklearn.cluster import KMeans"
   ]
  },
  {
   "cell_type": "markdown",
   "metadata": {},
   "source": [
    "#### Go ahead and load in the data:"
   ]
  },
  {
   "cell_type": "code",
   "execution_count": 180,
   "metadata": {},
   "outputs": [],
   "source": [
    "df_control_feature_set = pd.read_csv('featureData/aggregated_feature_table_control_day03_01.csv', index_col=0)"
   ]
  },
  {
   "cell_type": "markdown",
   "metadata": {},
   "source": [
    "#### Now center and standardize the data"
   ]
  },
  {
   "cell_type": "code",
   "execution_count": 181,
   "metadata": {},
   "outputs": [
    {
     "data": {
      "text/html": [
       "<div>\n",
       "<style scoped>\n",
       "    .dataframe tbody tr th:only-of-type {\n",
       "        vertical-align: middle;\n",
       "    }\n",
       "\n",
       "    .dataframe tbody tr th {\n",
       "        vertical-align: top;\n",
       "    }\n",
       "\n",
       "    .dataframe thead th {\n",
       "        text-align: right;\n",
       "    }\n",
       "</style>\n",
       "<table border=\"1\" class=\"dataframe\">\n",
       "  <thead>\n",
       "    <tr style=\"text-align: right;\">\n",
       "      <th></th>\n",
       "      <th>450.0</th>\n",
       "      <th>452.20883534136544</th>\n",
       "      <th>454.41767068273094</th>\n",
       "      <th>456.6265060240964</th>\n",
       "      <th>458.83534136546183</th>\n",
       "      <th>461.04417670682733</th>\n",
       "      <th>463.2530120481928</th>\n",
       "      <th>465.4618473895582</th>\n",
       "      <th>467.6706827309237</th>\n",
       "      <th>469.87951807228916</th>\n",
       "      <th>...</th>\n",
       "      <th>977.9116465863453</th>\n",
       "      <th>980.1204819277108</th>\n",
       "      <th>982.3293172690763</th>\n",
       "      <th>984.5381526104418</th>\n",
       "      <th>986.7469879518072</th>\n",
       "      <th>988.9558232931727</th>\n",
       "      <th>991.1646586345381</th>\n",
       "      <th>993.3734939759036</th>\n",
       "      <th>995.5823293172691</th>\n",
       "      <th>997.7911646586346</th>\n",
       "    </tr>\n",
       "  </thead>\n",
       "  <tbody>\n",
       "    <tr>\n",
       "      <th>0</th>\n",
       "      <td>0.928827</td>\n",
       "      <td>10.617636</td>\n",
       "      <td>0.610132</td>\n",
       "      <td>-0.293381</td>\n",
       "      <td>-0.31221</td>\n",
       "      <td>-0.034205</td>\n",
       "      <td>0.804553</td>\n",
       "      <td>-0.503369</td>\n",
       "      <td>-0.33669</td>\n",
       "      <td>-0.060366</td>\n",
       "      <td>...</td>\n",
       "      <td>1.790699</td>\n",
       "      <td>-0.408177</td>\n",
       "      <td>-0.033333</td>\n",
       "      <td>0.0</td>\n",
       "      <td>0.0</td>\n",
       "      <td>0.0</td>\n",
       "      <td>-0.597894</td>\n",
       "      <td>-0.133147</td>\n",
       "      <td>0.0</td>\n",
       "      <td>0.0</td>\n",
       "    </tr>\n",
       "    <tr>\n",
       "      <th>1</th>\n",
       "      <td>0.358183</td>\n",
       "      <td>6.094947</td>\n",
       "      <td>0.360997</td>\n",
       "      <td>-0.293381</td>\n",
       "      <td>-0.31221</td>\n",
       "      <td>0.019162</td>\n",
       "      <td>0.448514</td>\n",
       "      <td>-0.503369</td>\n",
       "      <td>-0.33669</td>\n",
       "      <td>-0.266148</td>\n",
       "      <td>...</td>\n",
       "      <td>2.402600</td>\n",
       "      <td>3.384116</td>\n",
       "      <td>-0.033333</td>\n",
       "      <td>0.0</td>\n",
       "      <td>0.0</td>\n",
       "      <td>0.0</td>\n",
       "      <td>-0.597894</td>\n",
       "      <td>-0.133147</td>\n",
       "      <td>0.0</td>\n",
       "      <td>0.0</td>\n",
       "    </tr>\n",
       "    <tr>\n",
       "      <th>2</th>\n",
       "      <td>-0.637789</td>\n",
       "      <td>-0.567337</td>\n",
       "      <td>-0.857177</td>\n",
       "      <td>-0.293381</td>\n",
       "      <td>-0.31221</td>\n",
       "      <td>-0.821566</td>\n",
       "      <td>-0.493169</td>\n",
       "      <td>-0.503369</td>\n",
       "      <td>-0.33669</td>\n",
       "      <td>-0.828612</td>\n",
       "      <td>...</td>\n",
       "      <td>0.344550</td>\n",
       "      <td>-0.408177</td>\n",
       "      <td>-0.033333</td>\n",
       "      <td>0.0</td>\n",
       "      <td>0.0</td>\n",
       "      <td>0.0</td>\n",
       "      <td>-0.597894</td>\n",
       "      <td>-0.133147</td>\n",
       "      <td>0.0</td>\n",
       "      <td>0.0</td>\n",
       "    </tr>\n",
       "    <tr>\n",
       "      <th>3</th>\n",
       "      <td>-0.183879</td>\n",
       "      <td>1.399723</td>\n",
       "      <td>-0.364067</td>\n",
       "      <td>-0.293381</td>\n",
       "      <td>-0.31221</td>\n",
       "      <td>-0.218896</td>\n",
       "      <td>0.590063</td>\n",
       "      <td>-0.503369</td>\n",
       "      <td>-0.33669</td>\n",
       "      <td>-0.316772</td>\n",
       "      <td>...</td>\n",
       "      <td>0.041166</td>\n",
       "      <td>-0.408177</td>\n",
       "      <td>-0.033333</td>\n",
       "      <td>0.0</td>\n",
       "      <td>0.0</td>\n",
       "      <td>0.0</td>\n",
       "      <td>-0.597894</td>\n",
       "      <td>-0.133147</td>\n",
       "      <td>0.0</td>\n",
       "      <td>0.0</td>\n",
       "    </tr>\n",
       "    <tr>\n",
       "      <th>4</th>\n",
       "      <td>-0.474041</td>\n",
       "      <td>-0.567337</td>\n",
       "      <td>-0.496392</td>\n",
       "      <td>-0.293381</td>\n",
       "      <td>-0.31221</td>\n",
       "      <td>-0.821566</td>\n",
       "      <td>-0.493169</td>\n",
       "      <td>-0.503369</td>\n",
       "      <td>-0.33669</td>\n",
       "      <td>-0.828612</td>\n",
       "      <td>...</td>\n",
       "      <td>-0.006620</td>\n",
       "      <td>-0.408177</td>\n",
       "      <td>-0.033333</td>\n",
       "      <td>0.0</td>\n",
       "      <td>0.0</td>\n",
       "      <td>0.0</td>\n",
       "      <td>-0.597894</td>\n",
       "      <td>-0.133147</td>\n",
       "      <td>0.0</td>\n",
       "      <td>0.0</td>\n",
       "    </tr>\n",
       "  </tbody>\n",
       "</table>\n",
       "<p>5 rows × 249 columns</p>\n",
       "</div>"
      ],
      "text/plain": [
       "      450.0  452.20883534136544  454.41767068273094  456.6265060240964  \\\n",
       "0  0.928827           10.617636            0.610132          -0.293381   \n",
       "1  0.358183            6.094947            0.360997          -0.293381   \n",
       "2 -0.637789           -0.567337           -0.857177          -0.293381   \n",
       "3 -0.183879            1.399723           -0.364067          -0.293381   \n",
       "4 -0.474041           -0.567337           -0.496392          -0.293381   \n",
       "\n",
       "   458.83534136546183  461.04417670682733  463.2530120481928  \\\n",
       "0            -0.31221           -0.034205           0.804553   \n",
       "1            -0.31221            0.019162           0.448514   \n",
       "2            -0.31221           -0.821566          -0.493169   \n",
       "3            -0.31221           -0.218896           0.590063   \n",
       "4            -0.31221           -0.821566          -0.493169   \n",
       "\n",
       "   465.4618473895582  467.6706827309237  469.87951807228916  \\\n",
       "0          -0.503369           -0.33669           -0.060366   \n",
       "1          -0.503369           -0.33669           -0.266148   \n",
       "2          -0.503369           -0.33669           -0.828612   \n",
       "3          -0.503369           -0.33669           -0.316772   \n",
       "4          -0.503369           -0.33669           -0.828612   \n",
       "\n",
       "         ...          977.9116465863453  980.1204819277108  982.3293172690763  \\\n",
       "0        ...                   1.790699          -0.408177          -0.033333   \n",
       "1        ...                   2.402600           3.384116          -0.033333   \n",
       "2        ...                   0.344550          -0.408177          -0.033333   \n",
       "3        ...                   0.041166          -0.408177          -0.033333   \n",
       "4        ...                  -0.006620          -0.408177          -0.033333   \n",
       "\n",
       "   984.5381526104418  986.7469879518072  988.9558232931727  991.1646586345381  \\\n",
       "0                0.0                0.0                0.0          -0.597894   \n",
       "1                0.0                0.0                0.0          -0.597894   \n",
       "2                0.0                0.0                0.0          -0.597894   \n",
       "3                0.0                0.0                0.0          -0.597894   \n",
       "4                0.0                0.0                0.0          -0.597894   \n",
       "\n",
       "   993.3734939759036  995.5823293172691  997.7911646586346  \n",
       "0          -0.133147                0.0                0.0  \n",
       "1          -0.133147                0.0                0.0  \n",
       "2          -0.133147                0.0                0.0  \n",
       "3          -0.133147                0.0                0.0  \n",
       "4          -0.133147                0.0                0.0  \n",
       "\n",
       "[5 rows x 249 columns]"
      ]
     },
     "execution_count": 181,
     "metadata": {},
     "output_type": "execute_result"
    }
   ],
   "source": [
    "df_control_feature_set_standardized = (df_control_feature_set - df_control_feature_set.mean()) / df_control_feature_set.std()\n",
    "df_control_feature_set_standardized = df_control_feature_set_standardized.fillna(0)\n",
    "df_control_feature_set_standardized.head()"
   ]
  },
  {
   "cell_type": "markdown",
   "metadata": {},
   "source": [
    "### SVD and KMeans\n",
    "\n",
    "We will now find the SVD of the matrix. We will then use the SVD to approximate the data in 2-dimensions.Finally, we will run K-Means on the resulting coordinates with three clusters. We will then plot the resulting K-Means labels using plt.imshow.\n",
    "\n",
    "#### plt.imshow: this plotting function takes the cluster labels for each pixel and plots them. Therefore, our image should have three colors, each corresponding to a cluster"
   ]
  },
  {
   "cell_type": "code",
   "execution_count": 211,
   "metadata": {},
   "outputs": [],
   "source": [
    "# FIND THE SVD, NOTE V IS RETURNED TRANSPOSED\n",
    "[U, S, V] = svd(df_control_feature_set_standardized.values)\n",
    "# CREATE A DIAG MATRIX\n",
    "S_DIAG = np.diag(S)\n",
    "# COMPUTE THE RANK 2 APPOIMATION TO FIND THE COORDINATES\n",
    "dim_red_data = dot(S_DIAG[:2, :2], U[:, :2].transpose()).transpose()\n"
   ]
  },
  {
   "cell_type": "code",
   "execution_count": 212,
   "metadata": {},
   "outputs": [],
   "source": [
    "# RUN KMeans WITH 3 CLUSTERS\n",
    "kmeans = KMeans(n_clusters=3, n_init=15)\n",
    "kmeans.fit(dim_red_data)\n",
    "y_kmeans = kmeans.predict(dim_red_data)\n",
    "df_clusters = pd.DataFrame(dim_red_data)\n",
    "df_clusters['clusters'] = y_kmeans"
   ]
  },
  {
   "cell_type": "code",
   "execution_count": 213,
   "metadata": {},
   "outputs": [
    {
     "data": {
      "text/plain": [
       "Text(0,0.5,'Singular Vector 2')"
      ]
     },
     "execution_count": 213,
     "metadata": {},
     "output_type": "execute_result"
    },
    {
     "data": {
      "text/plain": [
       "<Figure size 432x288 with 0 Axes>"
      ]
     },
     "metadata": {},
     "output_type": "display_data"
    },
    {
     "data": {
      "image/png": "[encoded data removed]",
      "text/plain": [
       "<Figure size 1280x640 with 1 Axes>"
      ]
     },
     "metadata": {},
     "output_type": "display_data"
    }
   ],
   "source": [
    "x = df_clusters[0]\n",
    "y = df_clusters[1]\n",
    "\n",
    "centers = kmeans.cluster_centers_\n",
    "centers[:, 0], centers[:, 1] = centers[:, 0], centers[:, 1]\n",
    "plt.figure(2)\n",
    "plt.figure(figsize=(16, 8), dpi= 80, facecolor='w', edgecolor='k')\n",
    "plt.scatter(x, y, c=y_kmeans, s=50, cmap='viridis')\n",
    "plt.scatter(centers[:, 0], centers[:, 1], c='red', s=200, alpha=0.5)\n",
    "plt.title('K-Means Clustering after Rank-2 PCA Reduction')\n",
    "plt.xlabel('Singular Vector 1')\n",
    "plt.ylabel('Singular Vector 2')"
   ]
  },
  {
   "cell_type": "markdown",
   "metadata": {},
   "source": [
    "#### We have 3 clusters and 3 respective centroids. Each data point represents a pixel reduces to 2-dimensions. \n",
    "\n",
    "### Let's try and take each pixels assigned cluster label and plot it as an image:"
   ]
  },
  {
   "cell_type": "code",
   "execution_count": 214,
   "metadata": {},
   "outputs": [
    {
     "data": {
      "text/plain": [
       "<Figure size 432x288 with 0 Axes>"
      ]
     },
     "metadata": {},
     "output_type": "display_data"
    },
    {
     "data": {
      "image/png": "[encoded data removed]",
      "text/plain": [
       "<Figure size 720x720 with 1 Axes>"
      ]
     },
     "metadata": {},
     "output_type": "display_data"
    }
   ],
   "source": [
    "plt.figure(3)\n",
    "plt.figure(figsize=(9, 9), dpi= 80, facecolor='w', edgecolor='k')\n",
    "plt.imshow(y_kmeans.reshape(30, 30))\n",
    "plt.show()"
   ]
  },
  {
   "cell_type": "markdown",
   "metadata": {},
   "source": [
    "### Look familiar?"
   ]
  },
  {
   "cell_type": "markdown",
   "metadata": {},
   "source": [
    "<img src=\"img/3D-1 control.png\" style=\"width: 200px;\"/>"
   ]
  },
  {
   "cell_type": "code",
   "execution_count": null,
   "metadata": {},
   "outputs": [],
   "source": []
  },
  {
   "cell_type": "code",
   "execution_count": null,
   "metadata": {},
   "outputs": [],
   "source": []
  }
 ],
 "metadata": {
  "kernelspec": {
   "display_name": "Python 3",
   "language": "python",
   "name": "python3"
  },
  "language_info": {
   "codemirror_mode": {
    "name": "ipython",
    "version": 3
   },
   "file_extension": ".py",
   "mimetype": "text/x-python",
   "name": "python",
   "nbconvert_exporter": "python",
   "pygments_lexer": "ipython3",
   "version": "3.7.1"
  }
 },
 "nbformat": 4,
 "nbformat_minor": 2
}
