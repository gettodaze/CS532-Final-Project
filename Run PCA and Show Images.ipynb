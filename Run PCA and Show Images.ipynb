{
 "cells": [
  {
   "cell_type": "code",
   "execution_count": 63,
   "metadata": {},
   "outputs": [],
   "source": [
    "import pandas as pd\n",
    "import numpy as np\n",
    "import os\n",
    "from pyimzml.ImzMLParser import ImzMLParser\n",
    "import matplotlib.pyplot as plt\n",
    "from sklearn.cluster import KMeans\n",
    "from numpy import linspace, dot\n",
    "import scipy.signal as signal\n",
    "from numpy.linalg import svd\n",
    "from matplotlib.pyplot import plot\n",
    "from sklearn.decomposition import PCA\n",
    "import pickle\n",
    "import glob"
   ]
  },
  {
   "cell_type": "code",
   "execution_count": 2,
   "metadata": {},
   "outputs": [],
   "source": [
    "control = pd.read_csv(r\"C:\\Users\\John\\Documents\\School\\19 Summer\\532 ML\\CS 532 Project\\Data\\csvData\\aggregates\\Control_Day03_01_30x30_aggregated.csv\")\n",
    "injured = pd.read_csv(r\"C:\\Users\\John\\Documents\\School\\19 Summer\\532 ML\\CS 532 Project\\Data\\csvData\\aggregates\\Injured_Day03_01_32x31_aggregated.csv\")"
   ]
  },
  {
   "cell_type": "code",
   "execution_count": 113,
   "metadata": {},
   "outputs": [],
   "source": [
    "os.chdir(r\"C:\\Users\\John\\Documents\\School\\19 Summer\\532 ML\\CS 532 Project\\Data\\csvData\\aggregates\")\n",
    "files = [(file, get_size_from_filename(file)) for file in glob.glob(\"*.csv\")]"
   ]
  },
  {
   "cell_type": "code",
   "execution_count": 114,
   "metadata": {},
   "outputs": [],
   "source": [
    "import re\n",
    "def get_size_from_filename(fname):\n",
    "    size_search = re.search(r'_(\\d\\d)x(\\d\\d)_', fname, re.IGNORECASE)\n",
    "    return int(size_search.group(1)), int(size_search.group(2))"
   ]
  },
  {
   "cell_type": "code",
   "execution_count": 115,
   "metadata": {},
   "outputs": [
    {
     "data": {
      "text/plain": [
       "[('Control_Day03_01_30x30_aggregated.csv', (30, 30)),\n",
       " ('Control_Day03_02_35x34_aggregated.csv', (35, 34)),\n",
       " ('Control_Day03_03_29x27_aggregated.csv', (29, 27)),\n",
       " ('Injured_Day03_01_32x31_aggregated.csv', (32, 31)),\n",
       " ('Injured_Day03_02_37x33_aggregated.csv', (37, 33)),\n",
       " ('Injured_Day03_03_37x34_aggregated.csv', (37, 34))]"
      ]
     },
     "execution_count": 115,
     "metadata": {},
     "output_type": "execute_result"
    }
   ],
   "source": [
    "files"
   ]
  },
  {
   "cell_type": "code",
   "execution_count": null,
   "metadata": {},
   "outputs": [],
   "source": []
  },
  {
   "cell_type": "code",
   "execution_count": null,
   "metadata": {},
   "outputs": [],
   "source": []
  },
  {
   "cell_type": "code",
   "execution_count": null,
   "metadata": {},
   "outputs": [],
   "source": [
    "#A, B = kmeans_labels[:900],kmeans_labels[900:]\n",
    "len(kmeans_labels)"
   ]
  },
  {
   "cell_type": "code",
   "execution_count": null,
   "metadata": {},
   "outputs": [],
   "source": [
    "A = kmeans_labels.reshape(30,30)\n",
    "plt.imshow(A)"
   ]
  },
  {
   "cell_type": "code",
   "execution_count": null,
   "metadata": {},
   "outputs": [],
   "source": [
    "# r, g, and b are 512x512 float arrays with values >= 0 and < 1.\n",
    "from PIL import Image\n",
    "import numpy as np\n",
    "rgbArray = np.zeros((512,512,3), 'uint8')\n",
    "rgbArray[..., 0] = r*256\n",
    "rgbArray[..., 1] = g*256\n",
    "rgbArray[..., 2] = b*256\n",
    "img = Image.fromarray(rgbArray)\n",
    "img.save('myimg.jpeg')"
   ]
  },
  {
   "cell_type": "code",
   "execution_count": null,
   "metadata": {},
   "outputs": [],
   "source": []
  },
  {
   "cell_type": "code",
   "execution_count": null,
   "metadata": {},
   "outputs": [],
   "source": []
  },
  {
   "cell_type": "code",
   "execution_count": 5,
   "metadata": {},
   "outputs": [],
   "source": [
    "def find_rank(S):\n",
    "    aggregate_sum = sum(S)\n",
    "    cum_sum = 0\n",
    "    for i, v in enumerate(S):\n",
    "        cum_sum = cum_sum + v\n",
    "        cum_sum_percent = cum_sum / aggregate_sum\n",
    "        if cum_sum_percent > .99:\n",
    "            return i"
   ]
  },
  {
   "cell_type": "code",
   "execution_count": 6,
   "metadata": {},
   "outputs": [],
   "source": [
    "def pca_with_sklearn():\n",
    "    df_control_feature_set = pd.read_csv('csvData/aggregated_feature_table_control.csv')\n",
    "    df_injured_feature_set = pd.read_csv('csvData/aggregated_feature_table_injured.csv')\n",
    "    num_control_pixels = len(df_control_feature_set)\n",
    "    num_injured_pixels = len(df_injured_feature_set)\n",
    "    vec_control_label = np.ones(num_control_pixels)\n",
    "    vec_injured_label = -1 * np.ones(num_injured_pixels)\n",
    "    vec_combined_labels = np.concatenate((vec_control_label, vec_injured_label), axis=0)\n",
    "    df_combined_feature_set = pd.concat([df_control_feature_set, df_injured_feature_set])\n",
    "    del df_combined_feature_set[df_combined_feature_set.columns[-1]]\n",
    "    del df_combined_feature_set['Unnamed: 0']\n",
    "\n",
    "    df_combined_feature_set_standardized = (df_combined_feature_set - df_combined_feature_set.mean()) / df_combined_feature_set.std()\n",
    "    df_combined_feature_set_standardized = df_combined_feature_set_standardized.fillna(0)\n",
    "\n",
    "    reduced_data = PCA(n_components=2).fit_transform(df_combined_feature_set_standardized.values)\n",
    "    kmeans = KMeans(init='k-means++', n_clusters=3, n_init=10)\n",
    "    kmeans.fit(reduced_data)\n",
    "    # Step size of the mesh. Decrease to increase the quality of the VQ.\n",
    "    h = 0.1  # point in the mesh [x_min, x_max]x[y_min, y_max].\n",
    "\n",
    "    # Plot the decision boundary. For that, we will assign a color to each\n",
    "    x_min, x_max = reduced_data[:, 0].min() - 1, reduced_data[:, 0].max() + 1\n",
    "    y_min, y_max = reduced_data[:, 1].min() - 1, reduced_data[:, 1].max() + 1\n",
    "    xx, yy = np.meshgrid(np.arange(x_min, x_max, h), np.arange(y_min, y_max, h))\n",
    "\n",
    "    # Obtain labels for each point in mesh. Use last trained model.\n",
    "    Z = kmeans.predict(np.c_[xx.ravel(), yy.ravel()])\n",
    "\n",
    "    # Put the result into a color plot\n",
    "    Z = Z.reshape(xx.shape)\n",
    "    plt.figure(1)\n",
    "    plt.clf()\n",
    "    plt.imshow(Z, interpolation='nearest',\n",
    "               extent=(xx.min(), xx.max(), yy.min(), yy.max()),\n",
    "               cmap=plt.cm.Paired,\n",
    "               aspect='auto', origin='lower')\n",
    "\n",
    "    plt.plot(reduced_data[:, 0], reduced_data[:, 1], 'k.', markersize=2)\n",
    "    # Plot the centroids as a white X\n",
    "    centroids = kmeans.cluster_centers_\n",
    "    plt.scatter(centroids[:, 0], centroids[:, 1],\n",
    "                marker='x', s=169, linewidths=3,\n",
    "                color='w', zorder=10)\n",
    "    plt.title('K-means clustering on the digits dataset (PCA-reduced data)\\n'\n",
    "              'Centroids are marked with white cross')\n",
    "    plt.xlim(x_min, x_max)\n",
    "    plt.ylim(y_min, y_max)\n",
    "    plt.xticks(())\n",
    "    plt.yticks(())\n",
    "    plt.show()"
   ]
  },
  {
   "cell_type": "code",
   "execution_count": 126,
   "metadata": {},
   "outputs": [],
   "source": [
    "\n",
    "def pca(csv_path):\n",
    "    control = pd.read_csv(csv_path)\n",
    "    df_control_feature_set =control\n",
    "    df_injured_feature_set = injured\n",
    "    num_control_pixels = len(df_control_feature_set)\n",
    "    num_injured_pixels = len(df_injured_feature_set)\n",
    "    vec_control_label = np.ones(num_control_pixels)\n",
    "    vec_injured_label = -1*np.ones(num_injured_pixels)\n",
    "    vec_combined_labels = vec_control_label #if idx==0 else vec_injured_label #np.concatenate((vec_control_label, vec_injured_label), axis=0)\n",
    "    df_combined_feature_set = df_control_feature_set# if idx==0 else df_injured_feature_set #pd.concat([df_control_feature_set, df_injured_feature_set])\n",
    "    del df_combined_feature_set[df_combined_feature_set.columns[-1]]\n",
    "    del df_combined_feature_set['Unnamed: 0']\n",
    "    # df_combined_feature_set.to_excel('combined_feature_set.xlsx')\n",
    "    df_combined_feature_set_standardized = (df_combined_feature_set - df_combined_feature_set.mean()) / df_combined_feature_set.std()\n",
    "    df_combined_feature_set_standardized = df_combined_feature_set_standardized.fillna(0)\n",
    "\n",
    "    [U, S, V] = svd(df_combined_feature_set_standardized.values)\n",
    "    S_DIAG = np.diag(S)\n",
    "\n",
    "    # THIS IS THE DIM REDUCTION USING FIRST TWO COLS OF V\n",
    "    #dim_red_data = dot(df_combined_feature_set_standardized.values, V[:2, :].transpose())\n",
    "\n",
    "    dim_red_data = dot(S_DIAG[:2, :2], U[:, :2].transpose()).transpose()\n",
    "\n",
    "    kmeans = KMeans(n_clusters=2)\n",
    "    kmeans.fit(dim_red_data)\n",
    "    y_kmeans = kmeans.predict(dim_red_data)\n",
    "\n",
    "    df_clusters = pd.DataFrame(dim_red_data)\n",
    "    df_clusters['clusters'] = y_kmeans\n",
    "\n",
    "    x = df_clusters[0]\n",
    "    y = df_clusters[1]\n",
    "    plt.scatter(x, y, c=y_kmeans, s=50, cmap='viridis')\n",
    "    centers = kmeans.cluster_centers_\n",
    "    plt.scatter(centers[:, 0], centers[:, 1], c='black', s=200, alpha=0.5)\n",
    "    plt.title('Clusters Wattage vs Duration')\n",
    "    plt.xlabel('X')\n",
    "    plt.ylabel('Y')\n",
    "    plt.show()\n",
    "    return y_kmeans"
   ]
  },
  {
   "cell_type": "code",
   "execution_count": 129,
   "metadata": {},
   "outputs": [
    {
     "data": {
      "image/png": "[encoded data removed]",
      "text/plain": [
       "<Figure size 432x288 with 1 Axes>"
      ]
     },
     "metadata": {},
     "output_type": "display_data"
    },
    {
     "data": {
      "image/png": "[encoded data removed]",
      "text/plain": [
       "<Figure size 432x288 with 1 Axes>"
      ]
     },
     "metadata": {},
     "output_type": "display_data"
    }
   ],
   "source": [
    "i = 1\n",
    "labels_control = pca(files[i][0])\n",
    "labels_injured = pca(files[i+3][0])"
   ]
  },
  {
   "cell_type": "code",
   "execution_count": 130,
   "metadata": {},
   "outputs": [
    {
     "data": {
      "image/png": "[encoded data removed]",
      "text/plain": [
       "<Figure size 432x288 with 1 Axes>"
      ]
     },
     "metadata": {},
     "output_type": "display_data"
    },
    {
     "data": {
      "image/png": "[encoded data removed]",
      "text/plain": [
       "<Figure size 432x288 with 1 Axes>"
      ]
     },
     "metadata": {},
     "output_type": "display_data"
    }
   ],
   "source": [
    "A = labels_control.reshape(*reversed(files[i][1]))\n",
    "B = labels_injured.reshape(*reversed(files[i+3][1]))\n",
    "plt.imshow(A)\n",
    "plt.show()\n",
    "plt.imshow(B)\n",
    "plt.show()"
   ]
  },
  {
   "cell_type": "code",
   "execution_count": null,
   "metadata": {},
   "outputs": [],
   "source": []
  },
  {
   "cell_type": "code",
   "execution_count": 60,
   "metadata": {},
   "outputs": [
    {
     "data": {
      "text/plain": [
       "<matplotlib.image.AxesImage at 0x25516632320>"
      ]
     },
     "execution_count": 60,
     "metadata": {},
     "output_type": "execute_result"
    },
    {
     "data": {
      "image/png": "[encoded data removed]",
      "text/plain": [
       "<Figure size 432x288 with 1 Axes>"
      ]
     },
     "metadata": {},
     "output_type": "display_data"
    }
   ],
   "source": [
    "B = labels_injured.reshape(31,32)\n",
    "plt.imshow(B)"
   ]
  },
  {
   "cell_type": "code",
   "execution_count": null,
   "metadata": {},
   "outputs": [],
   "source": []
  },
  {
   "cell_type": "code",
   "execution_count": 61,
   "metadata": {},
   "outputs": [
    {
     "data": {
      "text/plain": [
       "31.0"
      ]
     },
     "execution_count": 61,
     "metadata": {},
     "output_type": "execute_result"
    }
   ],
   "source": [
    "(len(labels_injured)/32)"
   ]
  },
  {
   "cell_type": "code",
   "execution_count": 62,
   "metadata": {},
   "outputs": [
    {
     "data": {
      "text/plain": [
       "30.0"
      ]
     },
     "execution_count": 62,
     "metadata": {},
     "output_type": "execute_result"
    }
   ],
   "source": [
    "math.sqrt(len(labels_control))"
   ]
  },
  {
   "cell_type": "code",
   "execution_count": null,
   "metadata": {},
   "outputs": [],
   "source": []
  },
  {
   "cell_type": "code",
   "execution_count": null,
   "metadata": {},
   "outputs": [],
   "source": []
  },
  {
   "cell_type": "code",
   "execution_count": null,
   "metadata": {},
   "outputs": [],
   "source": []
  }
 ],
 "metadata": {
  "kernelspec": {
   "display_name": "Python 3",
   "language": "python",
   "name": "python3"
  },
  "language_info": {
   "codemirror_mode": {
    "name": "ipython",
    "version": 3
   },
   "file_extension": ".py",
   "mimetype": "text/x-python",
   "name": "python",
   "nbconvert_exporter": "python",
   "pygments_lexer": "ipython3",
   "version": "3.6.5"
  }
 },
 "nbformat": 4,
 "nbformat_minor": 2
}
